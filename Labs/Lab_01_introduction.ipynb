{
  "nbformat": 4,
  "nbformat_minor": 0,
  "metadata": {
    "kernelspec": {
      "display_name": "Python 3",
      "language": "python",
      "name": "python3"
    },
    "language_info": {
      "codemirror_mode": {
        "name": "ipython",
        "version": 2
      },
      "file_extension": ".py",
      "mimetype": "text/x-python",
      "name": "python",
      "nbconvert_exporter": "python",
      "pygments_lexer": "ipython2",
      "version": "2.7.15"
    },
    "colab": {
      "name": "Copia de Python.ipynb",
      "provenance": [],
      "collapsed_sections": [
        "kcMsCjHeo_ft",
        "n8HLKg4to_gF",
        "28scW-ryo_ge",
        "kG3X2eHGo_gk",
        "OfwLgg1Bo_gu",
        "BCkmlM_yo_gw",
        "KYryU3Bz4xmM",
        "QHDXqP4aCqO-"
      ]
    }
  },
  "cells": [
    {
      "cell_type": "markdown",
      "metadata": {
        "id": "QRRrG_wbo_e_"
      },
      "source": [
        "# Introducción de Python, Matplotlib y Pandas\n",
        "\n",
        "**Alejandra Fernández**<br>\n",
        "afernandezm@inf.udec.cl<br>"
      ]
    },
    {
      "cell_type": "markdown",
      "metadata": {
        "id": "hcbYx_dso_fG"
      },
      "source": [
        "### Python\n",
        "Python is a semi-interpreted language created by Guido van Rossum in late 80s. It is a perfect language that offers a wide set of packages for:\n",
        "- get and Manipulate data\n",
        "- visualice data\n",
        "- make basis and complex maths\n",
        "- much more!\n",
        "\n",
        "Furthermore, Python brings you a beautiful syntax which allow you to move quickly and orderly (intuitive code, familiar to human language).\n",
        "\n",
        "\n"
      ]
    },
    {
      "cell_type": "markdown",
      "metadata": {
        "id": "rKpM1UPzo_fG"
      },
      "source": [
        "### Table of Contents\n",
        "-  **Coding basis with Python** \n",
        "    - Variables and Types of data\n",
        "    - If-else sentences and Loops \n",
        "    - Functions\n",
        "- **Numerical data with Numpy**\n",
        "    - Arrays\n",
        "    - Operations\n",
        "    - Advanced Operations\n",
        "    \n",
        "- **Plotting with Matplotlib**\n",
        "    - Kinds of plots\n",
        "    - Figures, subplots, axis \n",
        "\n",
        "- **Tablas con Pandas**\n",
        "    - Tablas\n",
        "    - Filtering data\n",
        "    - Sorting data\n",
        "    - Groupby"
      ]
    },
    {
      "cell_type": "markdown",
      "metadata": {
        "id": "j03QByWjo_fH"
      },
      "source": [
        "### Coding basis with Python\n",
        "The first step in any programming language is to display a message from an input in the screen. So, the principal function to do this is ```print()```."
      ]
    },
    {
      "cell_type": "code",
      "metadata": {
        "id": "vH82uHUzo_fH",
        "outputId": "8e9466e8-2552-4ac6-a266-049d1f758701",
        "colab": {
          "base_uri": "https://localhost:8080/",
          "height": 102
        }
      },
      "source": [
        "print('Hello World\\n') #Simple text to display\n",
        "print('Peace Between jasdhajshdj Worlds 12')\n",
        "print('Hello', 'World', 155)\n",
        "\n",
        "#print por defecto incluye un salto de linea o '\\n' al final. Para cambiar esto podemos utilizar la palabra end\n",
        "print(\"Hola sin salto de linea \",end='')\n",
        "print(\"Hola con salto de linea\")"
      ],
      "execution_count": null,
      "outputs": [
        {
          "output_type": "stream",
          "text": [
            "Hello World\n",
            "\n",
            "Peace Between jasdhajshdj Worlds 12\n",
            "Hello World 155\n",
            "Hola sin salto de linea Hola con salto de linea\n"
          ],
          "name": "stdout"
        }
      ]
    },
    {
      "cell_type": "markdown",
      "metadata": {
        "id": "lxtujMAao_fL"
      },
      "source": [
        "La función ```print()``` es bastante simple y muy útil para entender lo que esta haciendo nuestro código. También nos sirve para detectar errores.<br><br>Para entender que procesos esta realizando nuestro código debemos imprimir los valores de las **variables**<br><br> En programación una  **variable** es una espacio de la memoria principal que se usará para almacenar datos.\n",
        "<br><br> En Python podemos crear e inicializar una variable indicando su nombre (sin indicar el tipo de variable). Una misma variable puede contener, a lo largo del código, valores de distinto tipo."
      ]
    },
    {
      "cell_type": "code",
      "metadata": {
        "id": "Bs9MBYUzo_fM"
      },
      "source": [
        "# we defined a variable by named it with a word o character (You cannot use numbers or symbols like &, /, %, ., ?, etc.)\n",
        "variable = 'Hola'   # we initialized with a data of kind STRING\n",
        "variable2 = 23      # we initialized with a data of kind INT\n",
        "variable3 = 23.9    # we initialized with a data of kind FLOAT\n",
        "variable = 100   # we can replace the data in some variable by assigning a new value"
      ],
      "execution_count": null,
      "outputs": []
    },
    {
      "cell_type": "markdown",
      "metadata": {
        "id": "NuXdKpPKo_fP"
      },
      "source": [
        "Podemos inicializar variables con operaciones"
      ]
    },
    {
      "cell_type": "code",
      "metadata": {
        "id": "l0KXh--9o_fP",
        "outputId": "639d231e-6a42-4e02-b928-51e3dcfba3b3",
        "colab": {
          "base_uri": "https://localhost:8080/",
          "height": 136
        }
      },
      "source": [
        "# Defining initial values\n",
        "a = 20\n",
        "b = 4\n",
        "\n",
        "#Defining operations using variables\n",
        "add = a + b\n",
        "sub = a - b\n",
        "mul = a * b\n",
        "div1 = a / b\n",
        "div2 = a // b #FLOOR (división entera)\n",
        "mod = a % b #resto\n",
        "potencia = a**b\n",
        "\n",
        "#Printting variables\n",
        "print('Addition:', add)\n",
        "print('Subtraction:', sub)\n",
        "print('Multiplication:', mul)\n",
        "print('Division:', div1)\n",
        "print('Division:', div2)\n",
        "print('Modulo:', mod)\n",
        "print('Potencia:', potencia)"
      ],
      "execution_count": null,
      "outputs": [
        {
          "output_type": "stream",
          "text": [
            "Addition: 24\n",
            "Subtraction: 16\n",
            "Multiplication: 80\n",
            "Division: 5.0\n",
            "Division: 5\n",
            "Modulo: 0\n",
            "Potencia: 160000\n"
          ],
          "name": "stdout"
        }
      ]
    },
    {
      "cell_type": "markdown",
      "metadata": {
        "id": "2fPJy9dto_fS"
      },
      "source": [
        "En python es muy normal usar **listas**. Las listas son un tipo especial de dato que organiza diferentes tipos de datos."
      ]
    },
    {
      "cell_type": "code",
      "metadata": {
        "id": "fdC_HP5Ko_fT",
        "outputId": "d552f2e7-d70a-4cb2-d37b-b2560d50f0d3",
        "colab": {
          "base_uri": "https://localhost:8080/",
          "height": 34
        }
      },
      "source": [
        "#Para declarar una lista utilizamos []\n",
        "my_list = ['Car', 23, 'kitten', [1,2,3], div2] \n",
        "print('My list: ',my_list)"
      ],
      "execution_count": null,
      "outputs": [
        {
          "output_type": "stream",
          "text": [
            "My list:  ['Car', 23, 'kitten', [1, 2, 3], 5]\n"
          ],
          "name": "stdout"
        }
      ]
    },
    {
      "cell_type": "markdown",
      "metadata": {
        "id": "6VO7of9_o_fW"
      },
      "source": [
        "There are [many operations with lists](https://docs.python.org/3/tutorial/datastructures.html). The main ones are:\n",
        "- append\n",
        "- indexing \n",
        "- sort\n",
        "- del"
      ]
    },
    {
      "cell_type": "code",
      "metadata": {
        "id": "jUGU2tgfo_fX",
        "outputId": "11b6d022-20f7-4547-cf4a-98efcb25b68e",
        "colab": {
          "base_uri": "https://localhost:8080/",
          "height": 68
        }
      },
      "source": [
        "my_new_list = [] # we initialized an empty list\n",
        "my_new_list.append('My first data in the list')\n",
        "print (my_new_list)\n",
        "my_new_list.append('It is the second data in the list')\n",
        "print (my_new_list)\n",
        "my_new_list.append([1,2,'hola',['A list of list of list', 7]])\n",
        "print (my_new_list)"
      ],
      "execution_count": null,
      "outputs": [
        {
          "output_type": "stream",
          "text": [
            "['My first data in the list']\n",
            "['My first data in the list', 'It is the second data in the list']\n",
            "['My first data in the list', 'It is the second data in the list', [1, 2, 'hola', ['A list of list of list', 7]]]\n"
          ],
          "name": "stdout"
        }
      ]
    },
    {
      "cell_type": "code",
      "metadata": {
        "id": "pzFacoSho_fb",
        "outputId": "8e55d81b-ed2d-4737-e205-549cded7c5ab",
        "colab": {
          "base_uri": "https://localhost:8080/",
          "height": 187
        }
      },
      "source": [
        "my_new_list = list(\"ejemplo\")\n",
        "lista2 = [1,2,3,4]\n",
        "print(my_new_list)\n",
        "my_new_list.append(lista2) \n",
        "print(my_new_list)\n",
        "print(\"*\"*50)\n",
        "#Indexing -> ocupamos un número\n",
        "first_item = my_new_list[0] # 0 ...... n-1\n",
        "last_item = my_new_list[-1] \n",
        "print(first_item)\n",
        "print(last_item)\n",
        "print(\"*\"*50)\n",
        "#Slicing -> operador :\n",
        "range_of_items = my_new_list[0:2] # A:B -> A hasta B-1\n",
        "range2 = my_new_list[3:]\n",
        "print(range_of_items)\n",
        "print(range2)\n",
        "print(\"*\"*50)\n",
        "#The last item in the list in the list in the list\n",
        "this = my_new_list[-1][-1]\n",
        "print('Latest value: ',this)"
      ],
      "execution_count": null,
      "outputs": [
        {
          "output_type": "stream",
          "text": [
            "['e', 'j', 'e', 'm', 'p', 'l', 'o']\n",
            "['e', 'j', 'e', 'm', 'p', 'l', 'o', [1, 2, 3, 4]]\n",
            "**************************************************\n",
            "e\n",
            "[1, 2, 3, 4]\n",
            "**************************************************\n",
            "['e', 'j']\n",
            "['m', 'p', 'l', 'o', [1, 2, 3, 4]]\n",
            "**************************************************\n",
            "Latest value:  4\n"
          ],
          "name": "stdout"
        }
      ]
    },
    {
      "cell_type": "code",
      "metadata": {
        "id": "EsAQiMMIo_fe",
        "outputId": "5df254fd-512a-4480-9d91-26df6d9963ca",
        "colab": {
          "base_uri": "https://localhost:8080/",
          "height": 119
        }
      },
      "source": [
        "another_list = [2,6,8,2,8]\n",
        "foo = ['a', 'luna','bueno']\n",
        "print(\"Originales:\")\n",
        "print(another_list)\n",
        "print(foo)\n",
        "foo.sort()\n",
        "another_list.sort()\n",
        "print(\"Ordenadas:\")\n",
        "print(another_list)\n",
        "print(foo)"
      ],
      "execution_count": null,
      "outputs": [
        {
          "output_type": "stream",
          "text": [
            "Originales:\n",
            "[2, 6, 8, 2, 8]\n",
            "['a', 'luna', 'bueno']\n",
            "Ordenadas:\n",
            "[2, 2, 6, 8, 8]\n",
            "['a', 'bueno', 'luna']\n"
          ],
          "name": "stdout"
        }
      ]
    },
    {
      "cell_type": "code",
      "metadata": {
        "id": "EUsxpFXmo_fh",
        "outputId": "3aa46fe7-b5f8-4b08-a1f3-9adf9cc6ca62",
        "colab": {
          "base_uri": "https://localhost:8080/",
          "height": 51
        }
      },
      "source": [
        "print(another_list)\n",
        "del another_list[2]\n",
        "print(another_list)"
      ],
      "execution_count": null,
      "outputs": [
        {
          "output_type": "stream",
          "text": [
            "[2, 2, 6, 8, 8]\n",
            "[2, 2, 8, 8]\n"
          ],
          "name": "stdout"
        }
      ]
    },
    {
      "cell_type": "markdown",
      "metadata": {
        "id": "boIY6W3No_fj"
      },
      "source": [
        "Since we know the list concept we could need to move along the elements of this. We can do this with **Loops** "
      ]
    },
    {
      "cell_type": "code",
      "metadata": {
        "id": "QpVLhRK2o_fk",
        "outputId": "bb9a29a4-4f42-4fa7-c17c-1e06118fbf08",
        "colab": {
          "base_uri": "https://localhost:8080/",
          "height": 442
        }
      },
      "source": [
        "# going through the elements\n",
        "for element in my_new_list:\n",
        "    print(element)\n",
        "# enumerating the elements\n",
        "print('*'*50)\n",
        "for i, element in enumerate(my_new_list):\n",
        "    print(i,'.-', element)\n",
        "# using a for statment to display a range\n",
        "print('*'*50)\n",
        "# range(a,b,c) -> inicio:a ; finalb:b-1 ; salto:c\n",
        "#Por defecto a=0 y c=1\n",
        "for k in range(0,5):\n",
        "    print(k)\n",
        "# Size of list\n",
        "print('*'*50)\n",
        "#funcion len -> obtiene el tamaño\n",
        "print('Lenght of list: ',len(my_new_list))"
      ],
      "execution_count": null,
      "outputs": [
        {
          "output_type": "stream",
          "text": [
            "e\n",
            "j\n",
            "e\n",
            "m\n",
            "p\n",
            "l\n",
            "o\n",
            "[1, 2, 3, 4]\n",
            "**************************************************\n",
            "0 .- e\n",
            "1 .- j\n",
            "2 .- e\n",
            "3 .- m\n",
            "4 .- p\n",
            "5 .- l\n",
            "6 .- o\n",
            "7 .- [1, 2, 3, 4]\n",
            "**************************************************\n",
            "0\n",
            "1\n",
            "2\n",
            "3\n",
            "4\n",
            "**************************************************\n",
            "Lenght of list:  8\n"
          ],
          "name": "stdout"
        }
      ]
    },
    {
      "cell_type": "code",
      "metadata": {
        "id": "fpQU7TABPYr6",
        "outputId": "d8a0a106-4470-47fa-8ee3-2a65d3ecf439",
        "colab": {
          "base_uri": "https://localhost:8080/",
          "height": 255
        }
      },
      "source": [
        "#Split, replace y find \n",
        "string_a = \"Faltan X horas para Halloween. Quiero que sea Halloween. Me gusta mucho celebrar Halloween.\"\n",
        "string_b = \"Pick a boo\"\n",
        "#La funcion split nos permite separar un string utilizando el separador que le indiquemos\n",
        "#por defecto toma como separardor \" \" (espacio en blanco)\n",
        "lista_c = string_a.split(\"Halloween\")\n",
        "print(lista_c)\n",
        "print(\"\\n\",'*'*50,\"\\n\")\n",
        "lista_d = string_a.split()\n",
        "print(lista_d)\n",
        "print(\"\\n\",'*'*50,\"\\n\")\n",
        "#Con replace podemos reemplazar valores en un string\n",
        "string_c = string_a.replace(\"Halloween\",\"Navidad\")\n",
        "print(string_c)\n",
        "print(\"\\n\",'*'*50,\"\\n\")\n",
        "\n",
        "#Find nos entrega la posicion del elemento buscado (Si no existe, entrega -1)\n",
        "print(string_b.find('o'))\n",
        "print(string_b.find('u'))\n"
      ],
      "execution_count": null,
      "outputs": [
        {
          "output_type": "stream",
          "text": [
            "['Faltan X horas para ', '. Quiero que sea ', '. Me gusta mucho celebrar ', '.']\n",
            "\n",
            " ************************************************** \n",
            "\n",
            "['Faltan', 'X', 'horas', 'para', 'Halloween.', 'Quiero', 'que', 'sea', 'Halloween.', 'Me', 'gusta', 'mucho', 'celebrar', 'Halloween.']\n",
            "\n",
            " ************************************************** \n",
            "\n",
            "Faltan X horas para Navidad. Quiero que sea Navidad. Me gusta mucho celebrar Navidad.\n",
            "\n",
            " ************************************************** \n",
            "\n",
            "8\n",
            "-1\n"
          ],
          "name": "stdout"
        }
      ]
    },
    {
      "cell_type": "markdown",
      "metadata": {
        "id": "NoHnk1rNo_fn"
      },
      "source": [
        "In order to work in specific domains, we can filter variables using **ifs** statments. The relational operators to make comparassion are:"
      ]
    },
    {
      "cell_type": "code",
      "metadata": {
        "id": "EzU96IGyo_fo",
        "outputId": "c0596eb0-773c-44cd-c558-7d9ca2d33026",
        "colab": {
          "base_uri": "https://localhost:8080/",
          "height": 119
        }
      },
      "source": [
        "# Relational Operators\n",
        "a = 99\n",
        "b = 10.2\n",
        "\n",
        "# a > b \n",
        "print(a > b)\n",
        "# a < b \n",
        "print(a < b)\n",
        "# a == b \n",
        "print(a == b)\n",
        "# a != b\n",
        "print(a != b)\n",
        "# a >= b\n",
        "print(a >= b)\n",
        "# a <= b\n",
        "print(a <= b)"
      ],
      "execution_count": null,
      "outputs": [
        {
          "output_type": "stream",
          "text": [
            "True\n",
            "False\n",
            "False\n",
            "True\n",
            "True\n",
            "False\n"
          ],
          "name": "stdout"
        }
      ]
    },
    {
      "cell_type": "markdown",
      "metadata": {
        "id": "fipiVQs0o_fq"
      },
      "source": [
        "##### Exercise:  Write a program that iterates over a list from 0 to 10 and select the even values"
      ]
    },
    {
      "cell_type": "code",
      "metadata": {
        "id": "faCjcklKo_fr",
        "outputId": "f1491d1b-1dd0-4f5d-fc57-6d621836a811",
        "colab": {
          "base_uri": "https://localhost:8080/",
          "height": 204
        }
      },
      "source": [
        "# Your code here ! \n",
        "lista = [0,1,2,3,4,5,6,7,8,9,10]\n",
        "for v in lista:\n",
        "    if v % 2 == 0:\n",
        "        print(v)\n",
        "    else:\n",
        "      print(\"Puchi :(\")"
      ],
      "execution_count": null,
      "outputs": [
        {
          "output_type": "stream",
          "text": [
            "0\n",
            "Puchi :(\n",
            "2\n",
            "Puchi :(\n",
            "4\n",
            "Puchi :(\n",
            "6\n",
            "Puchi :(\n",
            "8\n",
            "Puchi :(\n",
            "10\n"
          ],
          "name": "stdout"
        }
      ]
    },
    {
      "cell_type": "markdown",
      "metadata": {
        "id": "kcMsCjHeo_ft"
      },
      "source": [
        "### Functions\n",
        "Lets imagine that you need to define a VIPO (**V**ery **I**mportant **P**articular **O**peration). Probably, you will need to use this many time in your code but python didn't implement it for you :(<br><br>There is an special structure in python which allow you to write block of code which will be \"calleable\" whenever you want: **FUNCTIONS**"
      ]
    },
    {
      "cell_type": "code",
      "metadata": {
        "id": "-K-hDDY3o_ft"
      },
      "source": [
        "def exctract_odds(some_list,value=2):\n",
        "    odds = []\n",
        "    print(value)\n",
        "    for value in some_list: \n",
        "        if value % 2 == 1:\n",
        "            odds.append(value)\n",
        "    return odds"
      ],
      "execution_count": null,
      "outputs": []
    },
    {
      "cell_type": "code",
      "metadata": {
        "id": "0fYDzYO4o_fw",
        "outputId": "2fcc2c97-51eb-476e-928d-4ec2743c0784",
        "colab": {
          "base_uri": "https://localhost:8080/",
          "height": 68
        }
      },
      "source": [
        "whole = [1,2,3,4,5,6,7]\n",
        "odds  = exctract_odds(whole, value=100)\n",
        "print(odds)"
      ],
      "execution_count": null,
      "outputs": [
        {
          "output_type": "stream",
          "text": [
            "100\n",
            "Esto no va dentro de mi funcion\n",
            "[1, 3, 5, 7]\n"
          ],
          "name": "stdout"
        }
      ]
    },
    {
      "cell_type": "markdown",
      "metadata": {
        "id": "e-gQeSVHo_fy"
      },
      "source": [
        "## NUMPY \n",
        "NumPy provides:\t\n",
        "- extension package to Python for multi-dimensional arrays\n",
        "- closer to hardware (efficiency)\n",
        "- designed for scientific computation (convenience)\n",
        "- Also known as array oriented computing\n",
        "\n",
        "\n",
        "For example, An array containing:\n",
        "\n",
        "- values of an experiment/simulation at discrete time steps\n",
        "- signal recorded by a measurement device, e.g. sound wave\n",
        "- pixels of an image, grey-level or colour\n",
        "- 3-D data measured at different X-Y-Z positions, e.g. MRI scan\n",
        "\n",
        "(This list was extracted from [scipy-lectures](https://www.scipy-lectures.org/intro/numpy/array_object.html))<br>\n",
        "(You can see more [here](https://docs.scipy.org/doc/numpy/user/quickstart.html))"
      ]
    },
    {
      "cell_type": "code",
      "metadata": {
        "id": "1Zwj9fETo_fy"
      },
      "source": [
        "import numpy as np"
      ],
      "execution_count": null,
      "outputs": []
    },
    {
      "cell_type": "code",
      "metadata": {
        "id": "rtDxWHyJo_f1",
        "outputId": "c8fd58da-cd67-4f96-f6da-67b16cf7d3d2",
        "colab": {
          "base_uri": "https://localhost:8080/",
          "height": 68
        }
      },
      "source": [
        "list_python = range(1000)\n",
        "%timeit [i**2 for i in list_python]\n",
        "numpy_array = np.arange(1000)\n",
        "%timeit numpy_array**2"
      ],
      "execution_count": null,
      "outputs": [
        {
          "output_type": "stream",
          "text": [
            "1000 loops, best of 3: 258 µs per loop\n",
            "The slowest run took 42.81 times longer than the fastest. This could mean that an intermediate result is being cached.\n",
            "1000000 loops, best of 3: 1.45 µs per loop\n"
          ],
          "name": "stdout"
        }
      ]
    },
    {
      "cell_type": "markdown",
      "metadata": {
        "id": "zIn7GTRio_f4"
      },
      "source": [
        "We can define multidimnesional arrays *by hand* or *pre-defined*. "
      ]
    },
    {
      "cell_type": "code",
      "metadata": {
        "id": "fSY8YUYDo_f4",
        "outputId": "946e15d3-feaf-4082-fbb6-a5b7196eb7a9",
        "colab": {
          "base_uri": "https://localhost:8080/",
          "height": 255
        }
      },
      "source": [
        "# Defining numpy arrays by hand\n",
        "n = np.array([1,2,3])\n",
        "m = np.array([[1,2,3.6],[4,5,6]])\n",
        "l = np.array([[[1,2,3],\n",
        "               [4,5,6]],\n",
        "              [[1,2,3.6],\n",
        "               [4,5,None]]])\n",
        "print(\"n:\")\n",
        "print(n)\n",
        "print(\"m:\")\n",
        "print(m)\n",
        "print(\"l:\")\n",
        "print(l)\n",
        "print('dimension of n:',n.ndim,'data type:',n.dtype)\n",
        "print('dimension of m:',m.ndim,'data type:',m.dtype)\n",
        "print('dimension of l:',l.ndim,'data type:',l.dtype)"
      ],
      "execution_count": null,
      "outputs": [
        {
          "output_type": "stream",
          "text": [
            "n:\n",
            "[1 2 3]\n",
            "m:\n",
            "[[1.  2.  3.6]\n",
            " [4.  5.  6. ]]\n",
            "l:\n",
            "[[[1 2 3]\n",
            "  [4 5 6]]\n",
            "\n",
            " [[1 2 3.6]\n",
            "  [4 5 None]]]\n",
            "dimension of n: 1 data type: int64\n",
            "dimension of m: 2 data type: float64\n",
            "dimension of l: 3 data type: object\n"
          ],
          "name": "stdout"
        }
      ]
    },
    {
      "cell_type": "code",
      "metadata": {
        "id": "hOrFDZgto_f7",
        "outputId": "841d385a-bea8-432d-ffd1-2987ecc602a6",
        "colab": {
          "base_uri": "https://localhost:8080/",
          "height": 289
        }
      },
      "source": [
        "# Pre-defined by NumPy\n",
        "o = np.ones(5)\n",
        "print('*'*50)\n",
        "print(o)\n",
        "y = np.ones([5,2])\n",
        "print('*'*50)\n",
        "print(y)\n",
        "z = np.zeros(5)\n",
        "print('*'*50)\n",
        "print(z)\n",
        "#Normal distribution\n",
        "b = np.random.randn(2,2,2)\n",
        "print('*'*50)\n",
        "print(b)"
      ],
      "execution_count": null,
      "outputs": [
        {
          "output_type": "stream",
          "text": [
            "**************************************************\n",
            "[1. 1. 1. 1. 1.]\n",
            "**************************************************\n",
            "[[1. 1.]\n",
            " [1. 1.]\n",
            " [1. 1.]\n",
            " [1. 1.]\n",
            " [1. 1.]]\n",
            "**************************************************\n",
            "[0. 0. 0. 0. 0.]\n",
            "**************************************************\n",
            "[[[-0.13410234  0.13363788]\n",
            "  [-0.4473729  -0.24872025]]\n",
            "\n",
            " [[ 0.5718264   0.35694232]\n",
            "  [ 0.24404162 -0.02593259]]]\n"
          ],
          "name": "stdout"
        }
      ]
    },
    {
      "cell_type": "code",
      "metadata": {
        "id": "4a9hZP_GAh36",
        "outputId": "4dbca4a0-4cdf-45ba-a258-d15037c8a536",
        "colab": {
          "base_uri": "https://localhost:8080/",
          "height": 204
        }
      },
      "source": [
        "#Podemos saber las dimensiones del array con shape\n",
        "a = np.ones(10)\n",
        "b = np.zeros([3,2])\n",
        "print(a,\"Shape de a : \", a.shape)\n",
        "print(b,\"Shape de b : \", b.shape)\n",
        "print('*'*50)\n",
        "#Podemos modificar las dimensiones del array (siempre considerando el num de elementos que posee)\n",
        "a.shape = (5,2)\n",
        "b = b.reshape(6)\n",
        "print(a,\"Shape de a : \", a.shape)\n",
        "print(b,\"Shape de b : \", b.shape)"
      ],
      "execution_count": null,
      "outputs": [
        {
          "output_type": "stream",
          "text": [
            "[1. 1. 1. 1. 1. 1. 1. 1. 1. 1.] Shape de a :  (10,)\n",
            "[[0. 0.]\n",
            " [0. 0.]\n",
            " [0. 0.]] Shape de b :  (3, 2)\n",
            "**************************************************\n",
            "[[1. 1.]\n",
            " [1. 1.]\n",
            " [1. 1.]\n",
            " [1. 1.]\n",
            " [1. 1.]] Shape de a :  (5, 2)\n",
            "[0. 0. 0. 0. 0. 0.] Shape de b :  (6,)\n"
          ],
          "name": "stdout"
        }
      ]
    },
    {
      "cell_type": "markdown",
      "metadata": {
        "id": "fVSwO2Jvo_f-"
      },
      "source": [
        "We can create range of values defined by bounds"
      ]
    },
    {
      "cell_type": "code",
      "metadata": {
        "id": "b3yNUWxgo_f-",
        "outputId": "ea7f55ec-ba99-41d4-f13e-04f2dd460c4c",
        "colab": {
          "base_uri": "https://localhost:8080/",
          "height": 102
        }
      },
      "source": [
        "#arange(a,b,c) -> inicio:a ; final:b-1 ; salto: c \n",
        "#Por defecto a=0 y c=1\n",
        "a = np.arange(10) \n",
        "print (a)\n",
        "b = np.linspace(5,15,20) #linespace(a,b,c) -> inicio:a ; final:b ; total de numeros:c\n",
        "print (b)"
      ],
      "execution_count": null,
      "outputs": [
        {
          "output_type": "stream",
          "text": [
            "[0 1 2 3 4 5 6 7 8 9]\n",
            "[ 5.          5.52631579  6.05263158  6.57894737  7.10526316  7.63157895\n",
            "  8.15789474  8.68421053  9.21052632  9.73684211 10.26315789 10.78947368\n",
            " 11.31578947 11.84210526 12.36842105 12.89473684 13.42105263 13.94736842\n",
            " 14.47368421 15.        ]\n"
          ],
          "name": "stdout"
        }
      ]
    },
    {
      "cell_type": "markdown",
      "metadata": {
        "id": "KZkWSN43o_gA"
      },
      "source": [
        "One of the advantages of working with NumPy is the operations which we can do between arrays, for example:"
      ]
    },
    {
      "cell_type": "code",
      "metadata": {
        "id": "F6b48G9co_gB",
        "outputId": "1f5902bc-2a85-4f53-c11d-3dc29d00eb5e",
        "colab": {
          "base_uri": "https://localhost:8080/",
          "height": 34
        }
      },
      "source": [
        "a = np.ones(4)\n",
        "b = np.ones(4)\n",
        "print(a)\n",
        "x = np.sum([a,b], axis=0)\n",
        "y = np.divide(a, 5)\n",
        "z = np.array([1,2,3,4,5,6,7,8,9])\n",
        "zm = np.mean(z)\n",
        "zs = np.sum(z)\n",
        "zstd = np.std(z)\n",
        "zmax = np.max(z)\n",
        "zargmax = np.argmax(z)"
      ],
      "execution_count": null,
      "outputs": [
        {
          "output_type": "stream",
          "text": [
            "[1. 1. 1. 1.]\n"
          ],
          "name": "stdout"
        }
      ]
    },
    {
      "cell_type": "code",
      "metadata": {
        "id": "azN1IY8Po_gD",
        "outputId": "dbdada13-9077-48f1-c51a-a8f6a1451ce9",
        "colab": {
          "base_uri": "https://localhost:8080/",
          "height": 136
        }
      },
      "source": [
        "print(x)\n",
        "print(y)\n",
        "print(zm)\n",
        "print(zs)\n",
        "print(zstd)\n",
        "print(zmax)\n",
        "print(zargmax)"
      ],
      "execution_count": null,
      "outputs": [
        {
          "output_type": "stream",
          "text": [
            "[2. 2. 2. 2.]\n",
            "[0.2 0.2 0.2 0.2]\n",
            "5.0\n",
            "45\n",
            "2.581988897471611\n",
            "9\n",
            "8\n"
          ],
          "name": "stdout"
        }
      ]
    },
    {
      "cell_type": "code",
      "metadata": {
        "id": "cMoOYfy-K90N",
        "outputId": "c1aeefc5-7ce3-42cc-e052-2f09342d8b78",
        "colab": {
          "base_uri": "https://localhost:8080/",
          "height": 34
        }
      },
      "source": [
        "#Supongamos que tenemos un array con edades de personas y solo nos sirve la información de las edades de mayores de 18\n",
        "#Podriamos recorrer el array con un loop y en un segundo array ir copiando solo los valores que sean mayores a 18\n",
        "#Pero con numpy nos podemos ahorrar eso\n",
        "edades = [18,19,11,12,45,52,55,13,24,58,12,19,17,26,27,10]\n",
        "array = np.array(edades)\n",
        "array[array>=18]\n"
      ],
      "execution_count": null,
      "outputs": [
        {
          "output_type": "execute_result",
          "data": {
            "text/plain": [
              "array([18, 19, 45, 52, 55, 24, 58, 19, 26, 27])"
            ]
          },
          "metadata": {
            "tags": []
          },
          "execution_count": 29
        }
      ]
    },
    {
      "cell_type": "code",
      "metadata": {
        "id": "KuNxIHr3OLlE",
        "outputId": "9f9cd889-9488-4d44-d77a-e32210079af2",
        "colab": {
          "base_uri": "https://localhost:8080/",
          "height": 119
        }
      },
      "source": [
        "#Transpuesta de una matriz\n",
        "a = np.array([[1,6,3],[4,5,2],[7,8,9]])\n",
        "print(a.T)\n",
        "\n",
        "#Ordenar\n",
        "a = np.sort(a)\n",
        "print(a)"
      ],
      "execution_count": null,
      "outputs": [
        {
          "output_type": "stream",
          "text": [
            "[[1 4 7]\n",
            " [6 5 8]\n",
            " [3 2 9]]\n",
            "[[1 3 6]\n",
            " [2 4 5]\n",
            " [7 8 9]]\n"
          ],
          "name": "stdout"
        }
      ]
    },
    {
      "cell_type": "markdown",
      "metadata": {
        "id": "n8HLKg4to_gF"
      },
      "source": [
        "### MATPLOTLIB"
      ]
    },
    {
      "cell_type": "code",
      "metadata": {
        "id": "5Jp2w1K1o_gG"
      },
      "source": [
        "import numpy as np\n",
        "import matplotlib.pyplot as plt"
      ],
      "execution_count": null,
      "outputs": []
    },
    {
      "cell_type": "code",
      "metadata": {
        "id": "XyRC-FW_o_gJ",
        "outputId": "8a2503e1-b6cf-4a0b-c961-65437cb9dd03",
        "colab": {
          "base_uri": "https://localhost:8080/",
          "height": 34
        }
      },
      "source": [
        "np.pi"
      ],
      "execution_count": null,
      "outputs": [
        {
          "output_type": "execute_result",
          "data": {
            "text/plain": [
              "3.141592653589793"
            ]
          },
          "metadata": {
            "tags": []
          },
          "execution_count": 31
        }
      ]
    },
    {
      "cell_type": "code",
      "metadata": {
        "id": "qouS7w5qSheo",
        "outputId": "1543c847-4e52-4c49-f188-5894a2d7628b",
        "colab": {
          "base_uri": "https://localhost:8080/",
          "height": 295
        }
      },
      "source": [
        "#El plot mas simple de la vida\n",
        "plt.plot([1,2,3,4,5,6],[1,2,3,4,5,6],color=\"red\") #coordenadas en x de los puntos y luego coordenadas en y\n",
        "plt.title(\"Grafico 1\")\n",
        "plt.xlabel(\"Ventas\")\n",
        "plt.ylabel(\"Dias\")\n",
        "#Cambiar color de la linea\n",
        "#Poner puntitos en vez de la linea (scatter)\n",
        "#Poner titulo \n",
        "#Ponerle nombre a los ejes\n",
        "#cambiar tamaño\n",
        "#guardar el plot\n",
        "plt.savefig(\"ejemplo1.png\")\n",
        "plt.show()\n",
        "\n",
        "\n",
        "#plt.hist(np.random.randn(40),bins=10) -> histograma"
      ],
      "execution_count": null,
      "outputs": [
        {
          "output_type": "display_data",
          "data": {
            "image/png": "[encoded data removed]",
            "text/plain": [
              "<Figure size 432x288 with 1 Axes>"
            ]
          },
          "metadata": {
            "tags": [],
            "needs_background": "light"
          }
        }
      ]
    },
    {
      "cell_type": "code",
      "metadata": {
        "id": "9jNKL8Tao_gR"
      },
      "source": [
        "X = np.linspace(-np.pi, np.pi, 256, endpoint=True)\n",
        "C = np.cos(X)\n",
        "S = np.sin(X)\n",
        "C, S = np.cos(X), np.sin(X)"
      ],
      "execution_count": null,
      "outputs": []
    },
    {
      "cell_type": "code",
      "metadata": {
        "id": "cOTeikgno_gT",
        "outputId": "8ee8b630-74c6-4a15-b91c-6851eac821b1",
        "colab": {
          "base_uri": "https://localhost:8080/",
          "height": 265
        }
      },
      "source": [
        "#Agrego todo lo que quiera plotear\n",
        "plt.plot(X,C)\n",
        "plt.plot(X,S)\n",
        "#Ploteo\n",
        "plt.show()"
      ],
      "execution_count": null,
      "outputs": [
        {
          "output_type": "display_data",
          "data": {
            "image/png": "[encoded data removed]",
            "text/plain": [
              "<Figure size 432x288 with 1 Axes>"
            ]
          },
          "metadata": {
            "tags": [],
            "needs_background": "light"
          }
        }
      ]
    },
    {
      "cell_type": "code",
      "metadata": {
        "id": "FkeQOU79o_gV",
        "outputId": "39fcd2f1-b675-4ea5-89e8-e0a7a2fcc9d4",
        "colab": {
          "base_uri": "https://localhost:8080/",
          "height": 352
        }
      },
      "source": [
        "# Create a figure of size 10x5 inches, 80 dots per inch\n",
        "plt.figure(figsize=(10, 5), dpi=80)\n",
        "\n",
        "# Create a new subplot from a grid of 1x1\n",
        "#plt.subplot(1, 1, 1)\n",
        "\n",
        "# Plot cosine with a blue continuous line of width 1 (pixels)\n",
        "plt.plot(X, C, color=\"blue\", linewidth=1.0, linestyle=\"--\")\n",
        "\n",
        "# Plot sine with a green continuous line of width 1 (pixels)\n",
        "plt.plot(X, S, color=\"green\", linewidth=1.0, linestyle=\"-\")\n",
        "\n",
        "# Show result on screen\n",
        "plt.show()"
      ],
      "execution_count": null,
      "outputs": [
        {
          "output_type": "display_data",
          "data": {
            "image/png": "[encoded data removed]",
            "text/plain": [
              "<Figure size 800x400 with 1 Axes>"
            ]
          },
          "metadata": {
            "tags": [],
            "needs_background": "light"
          }
        }
      ]
    },
    {
      "cell_type": "markdown",
      "metadata": {
        "id": "OD08jmqlo_gZ"
      },
      "source": [
        ""
      ]
    },
    {
      "cell_type": "code",
      "metadata": {
        "id": "E9q2Hwd8o_ga",
        "outputId": "39d203ff-0578-4649-937a-6f5058ba6688",
        "colab": {
          "base_uri": "https://localhost:8080/",
          "height": 352
        }
      },
      "source": [
        "# Create a figure of size 10x5 inches, 80 dots per inch (resolution in dots per inch)\n",
        "plt.figure(figsize=(10, 5), dpi=80)\n",
        "\n",
        "# Create a new subplot from a grid of 1x1\n",
        "plt.subplot(1, 2, 1)\n",
        "# Plot cosine with a blue continuous line of width 1 (pixels)\n",
        "plt.plot(X, C, color=\"blue\", linewidth=1.0, linestyle=\"--\")\n",
        "\n",
        "plt.subplot(1, 2, 2)\n",
        "# Plot sine with a green continuous line of width 1 (pixels)\n",
        "plt.plot(X, S, color=\"green\", linewidth=1.0, linestyle=\"-\")\n",
        "\n",
        "# Show result on screen\n",
        "plt.show()"
      ],
      "execution_count": null,
      "outputs": [
        {
          "output_type": "display_data",
          "data": {
            "image/png": "[encoded data removed]",
            "text/plain": [
              "<Figure size 800x400 with 2 Axes>"
            ]
          },
          "metadata": {
            "tags": [],
            "needs_background": "light"
          }
        }
      ]
    },
    {
      "cell_type": "code",
      "metadata": {
        "id": "_dRMF2AQE3En",
        "outputId": "e57504fa-9fe3-4251-bb93-eb588bf2148e",
        "colab": {
          "base_uri": "https://localhost:8080/",
          "height": 182
        }
      },
      "source": [
        "from skimage import io\n",
        "url = \"https://fi.udec.cl/wp-content/uploads/2019/03/marcaingenieriar.png\"\n",
        "image = io.imread(url)\n",
        "plt.imshow(image)\n",
        "plt.show()"
      ],
      "execution_count": null,
      "outputs": [
        {
          "output_type": "display_data",
          "data": {
            "image/png": "[encoded data removed]",
            "text/plain": [
              "<Figure size 432x288 with 1 Axes>"
            ]
          },
          "metadata": {
            "tags": [],
            "needs_background": "light"
          }
        }
      ]
    },
    {
      "cell_type": "code",
      "metadata": {
        "id": "cPoRgOsHFT-a",
        "outputId": "8b4de250-bd40-4489-c9ee-2830f96da9d8",
        "colab": {
          "base_uri": "https://localhost:8080/",
          "height": 284
        }
      },
      "source": [
        "print(type(image))\n",
        "plt.imshow(image[0:40,0:40])\n",
        "plt.show()"
      ],
      "execution_count": null,
      "outputs": [
        {
          "output_type": "stream",
          "text": [
            "<class 'numpy.ndarray'>\n"
          ],
          "name": "stdout"
        },
        {
          "output_type": "display_data",
          "data": {
            "image/png": "[encoded data removed]",
            "text/plain": [
              "<Figure size 432x288 with 1 Axes>"
            ]
          },
          "metadata": {
            "tags": [],
            "needs_background": "light"
          }
        }
      ]
    },
    {
      "cell_type": "markdown",
      "metadata": {
        "id": "28scW-ryo_ge"
      },
      "source": [
        "### Setting limits"
      ]
    },
    {
      "cell_type": "code",
      "metadata": {
        "id": "JRkwwc4Io_ge",
        "outputId": "c80cc6f5-15f9-4c0b-f536-206ec5b395da",
        "colab": {
          "base_uri": "https://localhost:8080/"
        }
      },
      "source": [
        "# Create a figure of size 8x6 inches, 80 dots per inch\n",
        "plt.figure(figsize=(10, 5), dpi=80)\n",
        "\n",
        "# Create a new subplot from a grid of 1x1\n",
        "plt.subplot(2, 1, 1)\n",
        "# Plot cosine with a blue continuous line of width 1 (pixels)\n",
        "plt.plot(X, C, color=\"blue\", linewidth=1.0, linestyle=\"--\")\n",
        "plt.subplot(2, 1, 2)\n",
        "# Plot sine with a green continuous line of width 1 (pixels)\n",
        "plt.plot(X, S, color=\"green\", linewidth=1.0, linestyle=\"-\")\n",
        "# Set x and y  limits\n",
        "plt.xlim(-4.0, 4.0)\n",
        "plt.ylim(-1.0, 1.0)\n",
        "\n",
        "# Show result on screen\n",
        "plt.show()"
      ],
      "execution_count": null,
      "outputs": [
        {
          "output_type": "display_data",
          "data": {
            "image/png": "[encoded data removed]",
            "text/plain": [
              "<Figure size 800x400 with 2 Axes>"
            ]
          },
          "metadata": {
            "tags": [],
            "needs_background": "light"
          }
        }
      ]
    },
    {
      "cell_type": "markdown",
      "metadata": {
        "id": "kG3X2eHGo_gk"
      },
      "source": [
        "### Adding a legend"
      ]
    },
    {
      "cell_type": "code",
      "metadata": {
        "id": "cPDKnlTUo_gl",
        "outputId": "fb9b3f84-ff22-4a2e-a2c8-6c99023a6536",
        "colab": {
          "base_uri": "https://localhost:8080/",
          "height": 276
        }
      },
      "source": [
        "# Create a figure of size 8x6 inches, 80 dots per inch\n",
        "plt.figure(figsize=(25, 5), dpi=80)\n",
        "\n",
        "# Create a new subplot from a grid of 1x1\n",
        "plt.subplot(1, 2, 1)\n",
        "plt.plot(X, C, color=\"blue\", linewidth=2.5, linestyle=\"-\", label=\"cosine\")\n",
        "#position\n",
        "plt.legend()\n",
        "\n",
        "\n",
        "plt.subplot(1, 2, 2)\n",
        "plt.plot(X, S, color=\"red\",  linewidth=2.5, linestyle=\"-\", label=\"sine\")\n",
        "#position\n",
        "plt.legend(loc='upper left')\n",
        "\n",
        "# Show result on screen\n",
        "plt.show()\n",
        "\n",
        "# Save figure using 72 dots per inch\n",
        "# plt.savefig(\"exercise_2.png\", dpi=72)"
      ],
      "execution_count": null,
      "outputs": [
        {
          "output_type": "display_data",
          "data": {
            "image/png": "[encoded data removed]",
            "text/plain": [
              "<Figure size 2000x400 with 2 Axes>"
            ]
          },
          "metadata": {
            "tags": [],
            "needs_background": "light"
          }
        }
      ]
    },
    {
      "cell_type": "markdown",
      "metadata": {
        "id": "OfwLgg1Bo_gu"
      },
      "source": [
        "### Annotate some points"
      ]
    },
    {
      "cell_type": "code",
      "metadata": {
        "id": "whTaA9HJo_gu",
        "outputId": "6a47cd91-ca51-47b4-e09b-274294b51ef5",
        "colab": {
          "base_uri": "https://localhost:8080/"
        }
      },
      "source": [
        "\n",
        "# Create a figure of size 8x6 inches, 80 dots per inch\n",
        "plt.figure(figsize=(10, 5), dpi=80)\n",
        "\n",
        "# Create a new subplot from a grid of 1x1\n",
        "plt.subplot(1, 1, 1)\n",
        "\n",
        "# Plot cosine with a blue continuous line of width 1 (pixels)\n",
        "plt.plot(X, C, color=\"blue\", linewidth=1.0, linestyle=\"--\")\n",
        "\n",
        "#=============================\n",
        "\n",
        "t = 2 * np.pi / 3\n",
        "plt.scatter([t, ], [np.cos(t), ], 50, color='blue')\n",
        "\n",
        "plt.annotate(r'$cos(\\frac{2\\pi}{3})=-\\frac{1}{2}$',\n",
        "             xy=(t, np.cos(t)), xycoords='data',\n",
        "             xytext=(-90, -50), textcoords='offset points', fontsize=16,\n",
        "             arrowprops=dict(arrowstyle=\"->\", connectionstyle=\"arc3,rad=.2\"))\n",
        "\n",
        "\n",
        "plt.show()"
      ],
      "execution_count": null,
      "outputs": [
        {
          "output_type": "display_data",
          "data": {
            "image/png": "[encoded data removed]",
            "text/plain": [
              "<Figure size 800x400 with 1 Axes>"
            ]
          },
          "metadata": {
            "tags": [],
            "needs_background": "light"
          }
        }
      ]
    },
    {
      "cell_type": "markdown",
      "metadata": {
        "id": "BCkmlM_yo_gw"
      },
      "source": [
        "### MORE PLOTS"
      ]
    },
    {
      "cell_type": "code",
      "metadata": {
        "id": "cVDbfNoUo_gx",
        "outputId": "39ed4cb7-9d2d-42c1-e5cb-5c92f56db355",
        "colab": {
          "base_uri": "https://localhost:8080/"
        }
      },
      "source": [
        "\"\"\"\n",
        "==================\n",
        "A simple Fill plot\n",
        "==================\n",
        "\n",
        "This example showcases the most basic fill plot a user can do with matplotlib.\n",
        "\"\"\"\n",
        "import numpy as np\n",
        "import matplotlib.pyplot as plt\n",
        "\n",
        "x = np.linspace(0, 1, 500)\n",
        "y = np.sin(4 * np.pi * x) * np.exp(-5 * x)\n",
        "\n",
        "fig, ax = plt.subplots()\n",
        "\n",
        "plt.plot(x,y, 'ko-', markersize=1)\n",
        "ax.fill(x, y, zorder=10)\n",
        "ax.grid(True, zorder=5)\n",
        "plt.show()"
      ],
      "execution_count": null,
      "outputs": [
        {
          "output_type": "display_data",
          "data": {
            "image/png": "[encoded data removed]",
            "text/plain": [
              "<Figure size 432x288 with 1 Axes>"
            ]
          },
          "metadata": {
            "tags": [],
            "needs_background": "light"
          }
        }
      ]
    },
    {
      "cell_type": "code",
      "metadata": {
        "id": "p3OJWXEho_gz",
        "outputId": "f60aec0b-ba90-4ceb-f275-7f04484212ec",
        "colab": {
          "base_uri": "https://localhost:8080/"
        }
      },
      "source": [
        "import numpy as np\n",
        "import matplotlib.pyplot as plt\n",
        "\n",
        "n = 1024\n",
        "X = np.random.normal(0, 1, n)\n",
        "Y = np.random.normal(0, 1, n)\n",
        "T = np.arctan2(Y, X)\n",
        "\n",
        "plt.axes([0.025, 0.025, 0.95, 0.95])\n",
        "plt.scatter(X, Y, s=75, c=T, alpha=.5)\n",
        "\n",
        "plt.xlim(-1.5, 1.5)\n",
        "plt.xticks(())\n",
        "plt.ylim(-1.5, 1.5)\n",
        "plt.yticks(())\n",
        "\n",
        "plt.show()\n"
      ],
      "execution_count": null,
      "outputs": [
        {
          "output_type": "display_data",
          "data": {
            "image/png": "[encoded data removed]",
            "text/plain": [
              "<Figure size 432x288 with 1 Axes>"
            ]
          },
          "metadata": {
            "tags": []
          }
        }
      ]
    },
    {
      "cell_type": "code",
      "metadata": {
        "id": "NGzpCq8fo_g4",
        "outputId": "f85a3271-4d29-4fd0-dbc6-8a15c201f2c0",
        "colab": {
          "base_uri": "https://localhost:8080/"
        }
      },
      "source": [
        "n = 12\n",
        "X = np.arange(n)\n",
        "Y1 = (1 - X / float(n)) * np.random.uniform(0.5, 1.0, n)\n",
        "Y2 = (1 - X / float(n)) * np.random.uniform(0.5, 1.0, n)\n",
        "\n",
        "plt.bar(X, +Y1, facecolor='#9999ff', edgecolor='white')\n",
        "plt.bar(X, -Y2, facecolor='#ff9999', edgecolor='white')\n",
        "\n",
        "for x, y in zip(X, Y1):\n",
        "    plt.text(x + 0.4, y + 0.05, '%.2f' % y, ha='center', va='bottom')\n",
        "\n",
        "plt.ylim(-1.25, +1.25)"
      ],
      "execution_count": null,
      "outputs": [
        {
          "output_type": "execute_result",
          "data": {
            "text/plain": [
              "(-1.25, 1.25)"
            ]
          },
          "metadata": {
            "tags": []
          },
          "execution_count": 105
        },
        {
          "output_type": "display_data",
          "data": {
            "image/png": "[encoded data removed]",
            "text/plain": [
              "<Figure size 432x288 with 1 Axes>"
            ]
          },
          "metadata": {
            "tags": [],
            "needs_background": "light"
          }
        }
      ]
    },
    {
      "cell_type": "markdown",
      "metadata": {
        "id": "_3gOVCjso_g8"
      },
      "source": [
        "https://www.scipy-lectures.org/intro/matplotlib/index.html#regular-plots"
      ]
    },
    {
      "cell_type": "markdown",
      "metadata": {
        "id": "KYryU3Bz4xmM"
      },
      "source": [
        "### PANDAS"
      ]
    },
    {
      "cell_type": "code",
      "metadata": {
        "id": "cOf9bHeR55yE"
      },
      "source": [
        "import numpy as np\n",
        "import pandas as pd\n",
        "import pylab as pl\n",
        "from IPython.display import display, HTML"
      ],
      "execution_count": null,
      "outputs": []
    },
    {
      "cell_type": "markdown",
      "metadata": {
        "id": "cdy7nWB354Mx"
      },
      "source": [
        "## The MovieLens data\n",
        "\n",
        "http://grouplens.org/datasets/movielens/\n",
        "\n",
        "Example inspired by Verena Kaynig-Fittkau & [Greg Reda](http://www.gregreda.com/2013/10/26/using-pandas-on-the-movielens-dataset/)\n",
        "\n",
        "We start by loading the [users](http://files.grouplens.org/datasets/movielens/ml-100k/u.user), [ratings](http://files.grouplens.org/datasets/movielens/ml-100k/u.data), and [movies](http://files.grouplens.org/datasets/movielens/ml-100k/u.item) data"
      ]
    },
    {
      "cell_type": "code",
      "metadata": {
        "id": "OStjhgmt5-wE",
        "outputId": "1f610730-0582-4774-c788-230697e62566",
        "colab": {
          "base_uri": "https://localhost:8080/",
          "height": 204
        }
      },
      "source": [
        "# Load the users data\n",
        "u_cols = ['user_id', 'age', 'sex', 'occupation', 'zip_code'] #Nombre de las columnas que nos interesan\n",
        "\n",
        "users = pd.read_csv(\n",
        "        'http://files.grouplens.org/datasets/movielens/ml-100k/u.user', \n",
        "        sep='|', names = u_cols)\n",
        "users.head() #head me entrega las primeras n columnas de la tabla, por defecto me entrega las primeras 5"
      ],
      "execution_count": null,
      "outputs": [
        {
          "output_type": "execute_result",
          "data": {
            "text/html": [
              "<div>\n",
              "<style scoped>\n",
              "    .dataframe tbody tr th:only-of-type {\n",
              "        vertical-align: middle;\n",
              "    }\n",
              "\n",
              "    .dataframe tbody tr th {\n",
              "        vertical-align: top;\n",
              "    }\n",
              "\n",
              "    .dataframe thead th {\n",
              "        text-align: right;\n",
              "    }\n",
              "</style>\n",
              "<table border=\"1\" class=\"dataframe\">\n",
              "  <thead>\n",
              "    <tr style=\"text-align: right;\">\n",
              "      <th></th>\n",
              "      <th>user_id</th>\n",
              "      <th>age</th>\n",
              "      <th>sex</th>\n",
              "      <th>occupation</th>\n",
              "      <th>zip_code</th>\n",
              "    </tr>\n",
              "  </thead>\n",
              "  <tbody>\n",
              "    <tr>\n",
              "      <th>0</th>\n",
              "      <td>1</td>\n",
              "      <td>24</td>\n",
              "      <td>M</td>\n",
              "      <td>technician</td>\n",
              "      <td>85711</td>\n",
              "    </tr>\n",
              "    <tr>\n",
              "      <th>1</th>\n",
              "      <td>2</td>\n",
              "      <td>53</td>\n",
              "      <td>F</td>\n",
              "      <td>other</td>\n",
              "      <td>94043</td>\n",
              "    </tr>\n",
              "    <tr>\n",
              "      <th>2</th>\n",
              "      <td>3</td>\n",
              "      <td>23</td>\n",
              "      <td>M</td>\n",
              "      <td>writer</td>\n",
              "      <td>32067</td>\n",
              "    </tr>\n",
              "    <tr>\n",
              "      <th>3</th>\n",
              "      <td>4</td>\n",
              "      <td>24</td>\n",
              "      <td>M</td>\n",
              "      <td>technician</td>\n",
              "      <td>43537</td>\n",
              "    </tr>\n",
              "    <tr>\n",
              "      <th>4</th>\n",
              "      <td>5</td>\n",
              "      <td>33</td>\n",
              "      <td>F</td>\n",
              "      <td>other</td>\n",
              "      <td>15213</td>\n",
              "    </tr>\n",
              "  </tbody>\n",
              "</table>\n",
              "</div>"
            ],
            "text/plain": [
              "   user_id  age sex  occupation zip_code\n",
              "0        1   24   M  technician    85711\n",
              "1        2   53   F       other    94043\n",
              "2        3   23   M      writer    32067\n",
              "3        4   24   M  technician    43537\n",
              "4        5   33   F       other    15213"
            ]
          },
          "metadata": {
            "tags": []
          },
          "execution_count": 53
        }
      ]
    },
    {
      "cell_type": "code",
      "metadata": {
        "id": "LtY9SFut6awx",
        "outputId": "abbd3eb7-4618-4338-cc96-cdef542833f8",
        "colab": {
          "base_uri": "https://localhost:8080/",
          "height": 68
        }
      },
      "source": [
        "#Para ver las dimensiones de nuestra tabla\n",
        "print(\"Dimensiones:\", users.shape)\n",
        "print(\"Filas: \", len(users.index))\n",
        "print(\"Filas: \", users.shape[0])"
      ],
      "execution_count": null,
      "outputs": [
        {
          "output_type": "stream",
          "text": [
            "Dimensiones: (943, 5)\n",
            "Filas:  943\n",
            "Filas:  943\n"
          ],
          "name": "stdout"
        }
      ]
    },
    {
      "cell_type": "code",
      "metadata": {
        "id": "jluSPBwi7aRS",
        "outputId": "c86972a9-dbe4-493b-ab36-799bf8929783",
        "colab": {
          "base_uri": "https://localhost:8080/",
          "height": 204
        }
      },
      "source": [
        "# Load the ratings data\n",
        "r_cols = ['user_id', 'movie_id', 'rating', 'unix_timestamp']\n",
        "ratings = pd.read_csv(\n",
        "    'http://files.grouplens.org/datasets/movielens/ml-100k/u.data', \n",
        "    sep='\\t', names=r_cols)\n",
        "\n",
        "ratings.head() "
      ],
      "execution_count": null,
      "outputs": [
        {
          "output_type": "execute_result",
          "data": {
            "text/html": [
              "<div>\n",
              "<style scoped>\n",
              "    .dataframe tbody tr th:only-of-type {\n",
              "        vertical-align: middle;\n",
              "    }\n",
              "\n",
              "    .dataframe tbody tr th {\n",
              "        vertical-align: top;\n",
              "    }\n",
              "\n",
              "    .dataframe thead th {\n",
              "        text-align: right;\n",
              "    }\n",
              "</style>\n",
              "<table border=\"1\" class=\"dataframe\">\n",
              "  <thead>\n",
              "    <tr style=\"text-align: right;\">\n",
              "      <th></th>\n",
              "      <th>user_id</th>\n",
              "      <th>movie_id</th>\n",
              "      <th>rating</th>\n",
              "      <th>unix_timestamp</th>\n",
              "    </tr>\n",
              "  </thead>\n",
              "  <tbody>\n",
              "    <tr>\n",
              "      <th>0</th>\n",
              "      <td>196</td>\n",
              "      <td>242</td>\n",
              "      <td>3</td>\n",
              "      <td>881250949</td>\n",
              "    </tr>\n",
              "    <tr>\n",
              "      <th>1</th>\n",
              "      <td>186</td>\n",
              "      <td>302</td>\n",
              "      <td>3</td>\n",
              "      <td>891717742</td>\n",
              "    </tr>\n",
              "    <tr>\n",
              "      <th>2</th>\n",
              "      <td>22</td>\n",
              "      <td>377</td>\n",
              "      <td>1</td>\n",
              "      <td>878887116</td>\n",
              "    </tr>\n",
              "    <tr>\n",
              "      <th>3</th>\n",
              "      <td>244</td>\n",
              "      <td>51</td>\n",
              "      <td>2</td>\n",
              "      <td>880606923</td>\n",
              "    </tr>\n",
              "    <tr>\n",
              "      <th>4</th>\n",
              "      <td>166</td>\n",
              "      <td>346</td>\n",
              "      <td>1</td>\n",
              "      <td>886397596</td>\n",
              "    </tr>\n",
              "  </tbody>\n",
              "</table>\n",
              "</div>"
            ],
            "text/plain": [
              "   user_id  movie_id  rating  unix_timestamp\n",
              "0      196       242       3       881250949\n",
              "1      186       302       3       891717742\n",
              "2       22       377       1       878887116\n",
              "3      244        51       2       880606923\n",
              "4      166       346       1       886397596"
            ]
          },
          "metadata": {
            "tags": []
          },
          "execution_count": 55
        }
      ]
    },
    {
      "cell_type": "code",
      "metadata": {
        "id": "8tnEA6TY7iCb",
        "outputId": "42a74d44-3812-46bc-e63a-b74a256be262",
        "colab": {
          "base_uri": "https://localhost:8080/",
          "height": 204
        }
      },
      "source": [
        "# Load movies data\n",
        "\n",
        "# the movies file contains columns indicating the movie's genres\n",
        "# let's only load the first five columns of the file with usecols\n",
        "m_cols = ['movie_id', 'title', 'release_date', \n",
        "            'video_release_date', 'imdb_url']\n",
        "\n",
        "#movies = pd.read_csv('http://files.grouplens.org/datasets/movielens/ml-100k/u.item', sep='|')\n",
        "movies = pd.read_csv( 'http://files.grouplens.org/datasets/movielens/ml-100k/u.item', \n",
        "                     sep='|', names=m_cols, usecols=range(5), encoding = 'latin1')\n",
        "\n",
        "movies.head()"
      ],
      "execution_count": null,
      "outputs": [
        {
          "output_type": "execute_result",
          "data": {
            "text/html": [
              "<div>\n",
              "<style scoped>\n",
              "    .dataframe tbody tr th:only-of-type {\n",
              "        vertical-align: middle;\n",
              "    }\n",
              "\n",
              "    .dataframe tbody tr th {\n",
              "        vertical-align: top;\n",
              "    }\n",
              "\n",
              "    .dataframe thead th {\n",
              "        text-align: right;\n",
              "    }\n",
              "</style>\n",
              "<table border=\"1\" class=\"dataframe\">\n",
              "  <thead>\n",
              "    <tr style=\"text-align: right;\">\n",
              "      <th></th>\n",
              "      <th>movie_id</th>\n",
              "      <th>title</th>\n",
              "      <th>release_date</th>\n",
              "      <th>video_release_date</th>\n",
              "      <th>imdb_url</th>\n",
              "    </tr>\n",
              "  </thead>\n",
              "  <tbody>\n",
              "    <tr>\n",
              "      <th>0</th>\n",
              "      <td>1</td>\n",
              "      <td>Toy Story (1995)</td>\n",
              "      <td>01-Jan-1995</td>\n",
              "      <td>NaN</td>\n",
              "      <td>http://us.imdb.com/M/title-exact?Toy%20Story%2...</td>\n",
              "    </tr>\n",
              "    <tr>\n",
              "      <th>1</th>\n",
              "      <td>2</td>\n",
              "      <td>GoldenEye (1995)</td>\n",
              "      <td>01-Jan-1995</td>\n",
              "      <td>NaN</td>\n",
              "      <td>http://us.imdb.com/M/title-exact?GoldenEye%20(...</td>\n",
              "    </tr>\n",
              "    <tr>\n",
              "      <th>2</th>\n",
              "      <td>3</td>\n",
              "      <td>Four Rooms (1995)</td>\n",
              "      <td>01-Jan-1995</td>\n",
              "      <td>NaN</td>\n",
              "      <td>http://us.imdb.com/M/title-exact?Four%20Rooms%...</td>\n",
              "    </tr>\n",
              "    <tr>\n",
              "      <th>3</th>\n",
              "      <td>4</td>\n",
              "      <td>Get Shorty (1995)</td>\n",
              "      <td>01-Jan-1995</td>\n",
              "      <td>NaN</td>\n",
              "      <td>http://us.imdb.com/M/title-exact?Get%20Shorty%...</td>\n",
              "    </tr>\n",
              "    <tr>\n",
              "      <th>4</th>\n",
              "      <td>5</td>\n",
              "      <td>Copycat (1995)</td>\n",
              "      <td>01-Jan-1995</td>\n",
              "      <td>NaN</td>\n",
              "      <td>http://us.imdb.com/M/title-exact?Copycat%20(1995)</td>\n",
              "    </tr>\n",
              "  </tbody>\n",
              "</table>\n",
              "</div>"
            ],
            "text/plain": [
              "   movie_id  ...                                           imdb_url\n",
              "0         1  ...  http://us.imdb.com/M/title-exact?Toy%20Story%2...\n",
              "1         2  ...  http://us.imdb.com/M/title-exact?GoldenEye%20(...\n",
              "2         3  ...  http://us.imdb.com/M/title-exact?Four%20Rooms%...\n",
              "3         4  ...  http://us.imdb.com/M/title-exact?Get%20Shorty%...\n",
              "4         5  ...  http://us.imdb.com/M/title-exact?Copycat%20(1995)\n",
              "\n",
              "[5 rows x 5 columns]"
            ]
          },
          "metadata": {
            "tags": []
          },
          "execution_count": 56
        }
      ]
    },
    {
      "cell_type": "code",
      "metadata": {
        "id": "wRoqxLto7p5g",
        "outputId": "f3c7659f-063f-4c39-ae5f-228e1c0d3f2e",
        "colab": {
          "base_uri": "https://localhost:8080/",
          "height": 399
        }
      },
      "source": [
        "display (users.describe())\n",
        "users.dtypes"
      ],
      "execution_count": null,
      "outputs": [
        {
          "output_type": "display_data",
          "data": {
            "text/html": [
              "<div>\n",
              "<style scoped>\n",
              "    .dataframe tbody tr th:only-of-type {\n",
              "        vertical-align: middle;\n",
              "    }\n",
              "\n",
              "    .dataframe tbody tr th {\n",
              "        vertical-align: top;\n",
              "    }\n",
              "\n",
              "    .dataframe thead th {\n",
              "        text-align: right;\n",
              "    }\n",
              "</style>\n",
              "<table border=\"1\" class=\"dataframe\">\n",
              "  <thead>\n",
              "    <tr style=\"text-align: right;\">\n",
              "      <th></th>\n",
              "      <th>user_id</th>\n",
              "      <th>age</th>\n",
              "    </tr>\n",
              "  </thead>\n",
              "  <tbody>\n",
              "    <tr>\n",
              "      <th>count</th>\n",
              "      <td>943.000000</td>\n",
              "      <td>943.000000</td>\n",
              "    </tr>\n",
              "    <tr>\n",
              "      <th>mean</th>\n",
              "      <td>472.000000</td>\n",
              "      <td>34.051962</td>\n",
              "    </tr>\n",
              "    <tr>\n",
              "      <th>std</th>\n",
              "      <td>272.364951</td>\n",
              "      <td>12.192740</td>\n",
              "    </tr>\n",
              "    <tr>\n",
              "      <th>min</th>\n",
              "      <td>1.000000</td>\n",
              "      <td>7.000000</td>\n",
              "    </tr>\n",
              "    <tr>\n",
              "      <th>25%</th>\n",
              "      <td>236.500000</td>\n",
              "      <td>25.000000</td>\n",
              "    </tr>\n",
              "    <tr>\n",
              "      <th>50%</th>\n",
              "      <td>472.000000</td>\n",
              "      <td>31.000000</td>\n",
              "    </tr>\n",
              "    <tr>\n",
              "      <th>75%</th>\n",
              "      <td>707.500000</td>\n",
              "      <td>43.000000</td>\n",
              "    </tr>\n",
              "    <tr>\n",
              "      <th>max</th>\n",
              "      <td>943.000000</td>\n",
              "      <td>73.000000</td>\n",
              "    </tr>\n",
              "  </tbody>\n",
              "</table>\n",
              "</div>"
            ],
            "text/plain": [
              "          user_id         age\n",
              "count  943.000000  943.000000\n",
              "mean   472.000000   34.051962\n",
              "std    272.364951   12.192740\n",
              "min      1.000000    7.000000\n",
              "25%    236.500000   25.000000\n",
              "50%    472.000000   31.000000\n",
              "75%    707.500000   43.000000\n",
              "max    943.000000   73.000000"
            ]
          },
          "metadata": {
            "tags": []
          }
        },
        {
          "output_type": "execute_result",
          "data": {
            "text/plain": [
              "user_id        int64\n",
              "age            int64\n",
              "sex           object\n",
              "occupation    object\n",
              "zip_code      object\n",
              "dtype: object"
            ]
          },
          "metadata": {
            "tags": []
          },
          "execution_count": 111
        }
      ]
    },
    {
      "cell_type": "code",
      "metadata": {
        "id": "n6QasFWf8NcR",
        "outputId": "0e411156-c62a-4ea8-f2c8-aef717d2d906",
        "colab": {
          "base_uri": "https://localhost:8080/",
          "height": 204
        }
      },
      "source": [
        "movie_ratings = pd.merge(movies, ratings)\n",
        "display(movie_ratings.head())"
      ],
      "execution_count": null,
      "outputs": [
        {
          "output_type": "display_data",
          "data": {
            "text/html": [
              "<div>\n",
              "<style scoped>\n",
              "    .dataframe tbody tr th:only-of-type {\n",
              "        vertical-align: middle;\n",
              "    }\n",
              "\n",
              "    .dataframe tbody tr th {\n",
              "        vertical-align: top;\n",
              "    }\n",
              "\n",
              "    .dataframe thead th {\n",
              "        text-align: right;\n",
              "    }\n",
              "</style>\n",
              "<table border=\"1\" class=\"dataframe\">\n",
              "  <thead>\n",
              "    <tr style=\"text-align: right;\">\n",
              "      <th></th>\n",
              "      <th>movie_id</th>\n",
              "      <th>title</th>\n",
              "      <th>release_date</th>\n",
              "      <th>video_release_date</th>\n",
              "      <th>imdb_url</th>\n",
              "      <th>user_id</th>\n",
              "      <th>rating</th>\n",
              "      <th>unix_timestamp</th>\n",
              "    </tr>\n",
              "  </thead>\n",
              "  <tbody>\n",
              "    <tr>\n",
              "      <th>0</th>\n",
              "      <td>1</td>\n",
              "      <td>Toy Story (1995)</td>\n",
              "      <td>01-Jan-1995</td>\n",
              "      <td>NaN</td>\n",
              "      <td>http://us.imdb.com/M/title-exact?Toy%20Story%2...</td>\n",
              "      <td>308</td>\n",
              "      <td>4</td>\n",
              "      <td>887736532</td>\n",
              "    </tr>\n",
              "    <tr>\n",
              "      <th>1</th>\n",
              "      <td>1</td>\n",
              "      <td>Toy Story (1995)</td>\n",
              "      <td>01-Jan-1995</td>\n",
              "      <td>NaN</td>\n",
              "      <td>http://us.imdb.com/M/title-exact?Toy%20Story%2...</td>\n",
              "      <td>287</td>\n",
              "      <td>5</td>\n",
              "      <td>875334088</td>\n",
              "    </tr>\n",
              "    <tr>\n",
              "      <th>2</th>\n",
              "      <td>1</td>\n",
              "      <td>Toy Story (1995)</td>\n",
              "      <td>01-Jan-1995</td>\n",
              "      <td>NaN</td>\n",
              "      <td>http://us.imdb.com/M/title-exact?Toy%20Story%2...</td>\n",
              "      <td>148</td>\n",
              "      <td>4</td>\n",
              "      <td>877019411</td>\n",
              "    </tr>\n",
              "    <tr>\n",
              "      <th>3</th>\n",
              "      <td>1</td>\n",
              "      <td>Toy Story (1995)</td>\n",
              "      <td>01-Jan-1995</td>\n",
              "      <td>NaN</td>\n",
              "      <td>http://us.imdb.com/M/title-exact?Toy%20Story%2...</td>\n",
              "      <td>280</td>\n",
              "      <td>4</td>\n",
              "      <td>891700426</td>\n",
              "    </tr>\n",
              "    <tr>\n",
              "      <th>4</th>\n",
              "      <td>1</td>\n",
              "      <td>Toy Story (1995)</td>\n",
              "      <td>01-Jan-1995</td>\n",
              "      <td>NaN</td>\n",
              "      <td>http://us.imdb.com/M/title-exact?Toy%20Story%2...</td>\n",
              "      <td>66</td>\n",
              "      <td>3</td>\n",
              "      <td>883601324</td>\n",
              "    </tr>\n",
              "  </tbody>\n",
              "</table>\n",
              "</div>"
            ],
            "text/plain": [
              "   movie_id             title release_date  ...  user_id rating  unix_timestamp\n",
              "0         1  Toy Story (1995)  01-Jan-1995  ...      308      4       887736532\n",
              "1         1  Toy Story (1995)  01-Jan-1995  ...      287      5       875334088\n",
              "2         1  Toy Story (1995)  01-Jan-1995  ...      148      4       877019411\n",
              "3         1  Toy Story (1995)  01-Jan-1995  ...      280      4       891700426\n",
              "4         1  Toy Story (1995)  01-Jan-1995  ...       66      3       883601324\n",
              "\n",
              "[5 rows x 8 columns]"
            ]
          },
          "metadata": {
            "tags": []
          }
        }
      ]
    },
    {
      "cell_type": "markdown",
      "metadata": {
        "id": "V-ku3mco-BDe"
      },
      "source": [
        "## Selecting data\n",
        "\n",
        "* DataFrame => group of Series with shared index\n",
        "* single DataFrame column => Series"
      ]
    },
    {
      "cell_type": "code",
      "metadata": {
        "id": "vg6GijvX8hKw",
        "outputId": "fa34060d-305b-487c-ee40-8e8068791158",
        "colab": {
          "base_uri": "https://localhost:8080/",
          "height": 408
        }
      },
      "source": [
        "display(users.head())\n",
        "print(' -'*10)\n",
        "print(users['occupation'].head())\n",
        "#Para ver cuantos valores de \"occupation\" existen en la tabla\n",
        "print(users['occupation'].nunique())\n",
        "print(users['occupation'].unique())"
      ],
      "execution_count": null,
      "outputs": [
        {
          "output_type": "display_data",
          "data": {
            "text/html": [
              "<div>\n",
              "<style scoped>\n",
              "    .dataframe tbody tr th:only-of-type {\n",
              "        vertical-align: middle;\n",
              "    }\n",
              "\n",
              "    .dataframe tbody tr th {\n",
              "        vertical-align: top;\n",
              "    }\n",
              "\n",
              "    .dataframe thead th {\n",
              "        text-align: right;\n",
              "    }\n",
              "</style>\n",
              "<table border=\"1\" class=\"dataframe\">\n",
              "  <thead>\n",
              "    <tr style=\"text-align: right;\">\n",
              "      <th></th>\n",
              "      <th>user_id</th>\n",
              "      <th>age</th>\n",
              "      <th>sex</th>\n",
              "      <th>occupation</th>\n",
              "      <th>zip_code</th>\n",
              "    </tr>\n",
              "  </thead>\n",
              "  <tbody>\n",
              "    <tr>\n",
              "      <th>0</th>\n",
              "      <td>1</td>\n",
              "      <td>24</td>\n",
              "      <td>M</td>\n",
              "      <td>technician</td>\n",
              "      <td>85711</td>\n",
              "    </tr>\n",
              "    <tr>\n",
              "      <th>1</th>\n",
              "      <td>2</td>\n",
              "      <td>53</td>\n",
              "      <td>F</td>\n",
              "      <td>other</td>\n",
              "      <td>94043</td>\n",
              "    </tr>\n",
              "    <tr>\n",
              "      <th>2</th>\n",
              "      <td>3</td>\n",
              "      <td>23</td>\n",
              "      <td>M</td>\n",
              "      <td>writer</td>\n",
              "      <td>32067</td>\n",
              "    </tr>\n",
              "    <tr>\n",
              "      <th>3</th>\n",
              "      <td>4</td>\n",
              "      <td>24</td>\n",
              "      <td>M</td>\n",
              "      <td>technician</td>\n",
              "      <td>43537</td>\n",
              "    </tr>\n",
              "    <tr>\n",
              "      <th>4</th>\n",
              "      <td>5</td>\n",
              "      <td>33</td>\n",
              "      <td>F</td>\n",
              "      <td>other</td>\n",
              "      <td>15213</td>\n",
              "    </tr>\n",
              "  </tbody>\n",
              "</table>\n",
              "</div>"
            ],
            "text/plain": [
              "   user_id  age sex  occupation zip_code\n",
              "0        1   24   M  technician    85711\n",
              "1        2   53   F       other    94043\n",
              "2        3   23   M      writer    32067\n",
              "3        4   24   M  technician    43537\n",
              "4        5   33   F       other    15213"
            ]
          },
          "metadata": {
            "tags": []
          }
        },
        {
          "output_type": "stream",
          "text": [
            " - - - - - - - - - -\n",
            "0    technician\n",
            "1         other\n",
            "2        writer\n",
            "3    technician\n",
            "4         other\n",
            "Name: occupation, dtype: object\n",
            "21\n",
            "['technician' 'other' 'writer' 'executive' 'administrator' 'student'\n",
            " 'lawyer' 'educator' 'scientist' 'entertainment' 'programmer' 'librarian'\n",
            " 'homemaker' 'artist' 'engineer' 'marketing' 'none' 'healthcare' 'retired'\n",
            " 'salesman' 'doctor']\n"
          ],
          "name": "stdout"
        }
      ]
    },
    {
      "cell_type": "code",
      "metadata": {
        "id": "-nPrT3o2-EhZ",
        "outputId": "b18425c0-3582-48d9-a91a-986fbb618738",
        "colab": {
          "base_uri": "https://localhost:8080/",
          "height": 204
        }
      },
      "source": [
        "# Selecting more than one column\n",
        "columns_you_want = ['occupation', 'sex'] \n",
        "display(users[columns_you_want].head())"
      ],
      "execution_count": null,
      "outputs": [
        {
          "output_type": "display_data",
          "data": {
            "text/html": [
              "<div>\n",
              "<style scoped>\n",
              "    .dataframe tbody tr th:only-of-type {\n",
              "        vertical-align: middle;\n",
              "    }\n",
              "\n",
              "    .dataframe tbody tr th {\n",
              "        vertical-align: top;\n",
              "    }\n",
              "\n",
              "    .dataframe thead th {\n",
              "        text-align: right;\n",
              "    }\n",
              "</style>\n",
              "<table border=\"1\" class=\"dataframe\">\n",
              "  <thead>\n",
              "    <tr style=\"text-align: right;\">\n",
              "      <th></th>\n",
              "      <th>occupation</th>\n",
              "      <th>sex</th>\n",
              "    </tr>\n",
              "  </thead>\n",
              "  <tbody>\n",
              "    <tr>\n",
              "      <th>0</th>\n",
              "      <td>technician</td>\n",
              "      <td>M</td>\n",
              "    </tr>\n",
              "    <tr>\n",
              "      <th>1</th>\n",
              "      <td>other</td>\n",
              "      <td>F</td>\n",
              "    </tr>\n",
              "    <tr>\n",
              "      <th>2</th>\n",
              "      <td>writer</td>\n",
              "      <td>M</td>\n",
              "    </tr>\n",
              "    <tr>\n",
              "      <th>3</th>\n",
              "      <td>technician</td>\n",
              "      <td>M</td>\n",
              "    </tr>\n",
              "    <tr>\n",
              "      <th>4</th>\n",
              "      <td>other</td>\n",
              "      <td>F</td>\n",
              "    </tr>\n",
              "  </tbody>\n",
              "</table>\n",
              "</div>"
            ],
            "text/plain": [
              "   occupation sex\n",
              "0  technician   M\n",
              "1       other   F\n",
              "2      writer   M\n",
              "3  technician   M\n",
              "4       other   F"
            ]
          },
          "metadata": {
            "tags": []
          }
        }
      ]
    },
    {
      "cell_type": "code",
      "metadata": {
        "id": "pEqenFm_-I6s",
        "outputId": "3ee2a0bc-d9b5-4e4f-f5e6-3804ab0e9a2e",
        "colab": {
          "base_uri": "https://localhost:8080/",
          "height": 306
        }
      },
      "source": [
        "display(users.head())\n",
        "print(users.iloc[3])# -> fila especifica"
      ],
      "execution_count": null,
      "outputs": [
        {
          "output_type": "display_data",
          "data": {
            "text/html": [
              "<div>\n",
              "<style scoped>\n",
              "    .dataframe tbody tr th:only-of-type {\n",
              "        vertical-align: middle;\n",
              "    }\n",
              "\n",
              "    .dataframe tbody tr th {\n",
              "        vertical-align: top;\n",
              "    }\n",
              "\n",
              "    .dataframe thead th {\n",
              "        text-align: right;\n",
              "    }\n",
              "</style>\n",
              "<table border=\"1\" class=\"dataframe\">\n",
              "  <thead>\n",
              "    <tr style=\"text-align: right;\">\n",
              "      <th></th>\n",
              "      <th>user_id</th>\n",
              "      <th>age</th>\n",
              "      <th>sex</th>\n",
              "      <th>occupation</th>\n",
              "      <th>zip_code</th>\n",
              "    </tr>\n",
              "  </thead>\n",
              "  <tbody>\n",
              "    <tr>\n",
              "      <th>0</th>\n",
              "      <td>1</td>\n",
              "      <td>24</td>\n",
              "      <td>M</td>\n",
              "      <td>technician</td>\n",
              "      <td>85711</td>\n",
              "    </tr>\n",
              "    <tr>\n",
              "      <th>1</th>\n",
              "      <td>2</td>\n",
              "      <td>53</td>\n",
              "      <td>F</td>\n",
              "      <td>other</td>\n",
              "      <td>94043</td>\n",
              "    </tr>\n",
              "    <tr>\n",
              "      <th>2</th>\n",
              "      <td>3</td>\n",
              "      <td>23</td>\n",
              "      <td>M</td>\n",
              "      <td>writer</td>\n",
              "      <td>32067</td>\n",
              "    </tr>\n",
              "    <tr>\n",
              "      <th>3</th>\n",
              "      <td>4</td>\n",
              "      <td>24</td>\n",
              "      <td>M</td>\n",
              "      <td>technician</td>\n",
              "      <td>43537</td>\n",
              "    </tr>\n",
              "    <tr>\n",
              "      <th>4</th>\n",
              "      <td>5</td>\n",
              "      <td>33</td>\n",
              "      <td>F</td>\n",
              "      <td>other</td>\n",
              "      <td>15213</td>\n",
              "    </tr>\n",
              "  </tbody>\n",
              "</table>\n",
              "</div>"
            ],
            "text/plain": [
              "   user_id  age sex  occupation zip_code\n",
              "0        1   24   M  technician    85711\n",
              "1        2   53   F       other    94043\n",
              "2        3   23   M      writer    32067\n",
              "3        4   24   M  technician    43537\n",
              "4        5   33   F       other    15213"
            ]
          },
          "metadata": {
            "tags": []
          }
        },
        {
          "output_type": "stream",
          "text": [
            "user_id                4\n",
            "age                   24\n",
            "sex                    M\n",
            "occupation    technician\n",
            "zip_code           43537\n",
            "Name: 3, dtype: object\n"
          ],
          "name": "stdout"
        }
      ]
    },
    {
      "cell_type": "code",
      "metadata": {
        "id": "LgGlOh2A-bSG",
        "outputId": "49f62dfd-409d-4b24-e8e1-a13dfc9f378d",
        "colab": {
          "base_uri": "https://localhost:8080/",
          "height": 102
        }
      },
      "source": [
        "# \"values\" gives you access to the data directly\n",
        "display( users.head().values)"
      ],
      "execution_count": null,
      "outputs": [
        {
          "output_type": "display_data",
          "data": {
            "text/plain": [
              "array([[1, 24, 'M', 'technician', '85711'],\n",
              "       [2, 53, 'F', 'other', '94043'],\n",
              "       [3, 23, 'M', 'writer', '32067'],\n",
              "       [4, 24, 'M', 'technician', '43537'],\n",
              "       [5, 33, 'F', 'other', '15213']], dtype=object)"
            ]
          },
          "metadata": {
            "tags": []
          }
        }
      ]
    },
    {
      "cell_type": "markdown",
      "metadata": {
        "id": "xgnk7SbH-ep3"
      },
      "source": [
        "## Filtering data"
      ]
    },
    {
      "cell_type": "code",
      "metadata": {
        "id": "JOiNqxYp-fXM",
        "outputId": "63e52205-6d84-4f56-c6df-dd85182f9f28",
        "colab": {
          "base_uri": "https://localhost:8080/",
          "height": 204
        }
      },
      "source": [
        "# Show users over 18\n",
        "adultUsers = users[users.age > 18]\n",
        "display( adultUsers.head())\n"
      ],
      "execution_count": null,
      "outputs": [
        {
          "output_type": "display_data",
          "data": {
            "text/html": [
              "<div>\n",
              "<style scoped>\n",
              "    .dataframe tbody tr th:only-of-type {\n",
              "        vertical-align: middle;\n",
              "    }\n",
              "\n",
              "    .dataframe tbody tr th {\n",
              "        vertical-align: top;\n",
              "    }\n",
              "\n",
              "    .dataframe thead th {\n",
              "        text-align: right;\n",
              "    }\n",
              "</style>\n",
              "<table border=\"1\" class=\"dataframe\">\n",
              "  <thead>\n",
              "    <tr style=\"text-align: right;\">\n",
              "      <th></th>\n",
              "      <th>user_id</th>\n",
              "      <th>age</th>\n",
              "      <th>sex</th>\n",
              "      <th>occupation</th>\n",
              "      <th>zip_code</th>\n",
              "    </tr>\n",
              "  </thead>\n",
              "  <tbody>\n",
              "    <tr>\n",
              "      <th>0</th>\n",
              "      <td>1</td>\n",
              "      <td>24</td>\n",
              "      <td>M</td>\n",
              "      <td>technician</td>\n",
              "      <td>85711</td>\n",
              "    </tr>\n",
              "    <tr>\n",
              "      <th>1</th>\n",
              "      <td>2</td>\n",
              "      <td>53</td>\n",
              "      <td>F</td>\n",
              "      <td>other</td>\n",
              "      <td>94043</td>\n",
              "    </tr>\n",
              "    <tr>\n",
              "      <th>2</th>\n",
              "      <td>3</td>\n",
              "      <td>23</td>\n",
              "      <td>M</td>\n",
              "      <td>writer</td>\n",
              "      <td>32067</td>\n",
              "    </tr>\n",
              "    <tr>\n",
              "      <th>3</th>\n",
              "      <td>4</td>\n",
              "      <td>24</td>\n",
              "      <td>M</td>\n",
              "      <td>technician</td>\n",
              "      <td>43537</td>\n",
              "    </tr>\n",
              "    <tr>\n",
              "      <th>4</th>\n",
              "      <td>5</td>\n",
              "      <td>33</td>\n",
              "      <td>F</td>\n",
              "      <td>other</td>\n",
              "      <td>15213</td>\n",
              "    </tr>\n",
              "  </tbody>\n",
              "</table>\n",
              "</div>"
            ],
            "text/plain": [
              "   user_id  age sex  occupation zip_code\n",
              "0        1   24   M  technician    85711\n",
              "1        2   53   F       other    94043\n",
              "2        3   23   M      writer    32067\n",
              "3        4   24   M  technician    43537\n",
              "4        5   33   F       other    15213"
            ]
          },
          "metadata": {
            "tags": []
          }
        }
      ]
    },
    {
      "cell_type": "code",
      "metadata": {
        "id": "fldEBoEb-wru",
        "outputId": "f2af2a6d-138e-4139-b04a-0ab68fbd0e60",
        "colab": {
          "base_uri": "https://localhost:8080/",
          "height": 204
        }
      },
      "source": [
        "# Show teenagers\n",
        "teenUsers = users[(users.age >= 13) & (users.age<20)]\n",
        "display( teenUsers.head())"
      ],
      "execution_count": null,
      "outputs": [
        {
          "output_type": "display_data",
          "data": {
            "text/html": [
              "<div>\n",
              "<style scoped>\n",
              "    .dataframe tbody tr th:only-of-type {\n",
              "        vertical-align: middle;\n",
              "    }\n",
              "\n",
              "    .dataframe tbody tr th {\n",
              "        vertical-align: top;\n",
              "    }\n",
              "\n",
              "    .dataframe thead th {\n",
              "        text-align: right;\n",
              "    }\n",
              "</style>\n",
              "<table border=\"1\" class=\"dataframe\">\n",
              "  <thead>\n",
              "    <tr style=\"text-align: right;\">\n",
              "      <th></th>\n",
              "      <th>user_id</th>\n",
              "      <th>age</th>\n",
              "      <th>sex</th>\n",
              "      <th>occupation</th>\n",
              "      <th>zip_code</th>\n",
              "    </tr>\n",
              "  </thead>\n",
              "  <tbody>\n",
              "    <tr>\n",
              "      <th>35</th>\n",
              "      <td>36</td>\n",
              "      <td>19</td>\n",
              "      <td>F</td>\n",
              "      <td>student</td>\n",
              "      <td>93117</td>\n",
              "    </tr>\n",
              "    <tr>\n",
              "      <th>51</th>\n",
              "      <td>52</td>\n",
              "      <td>18</td>\n",
              "      <td>F</td>\n",
              "      <td>student</td>\n",
              "      <td>55105</td>\n",
              "    </tr>\n",
              "    <tr>\n",
              "      <th>56</th>\n",
              "      <td>57</td>\n",
              "      <td>16</td>\n",
              "      <td>M</td>\n",
              "      <td>none</td>\n",
              "      <td>84010</td>\n",
              "    </tr>\n",
              "    <tr>\n",
              "      <th>66</th>\n",
              "      <td>67</td>\n",
              "      <td>17</td>\n",
              "      <td>M</td>\n",
              "      <td>student</td>\n",
              "      <td>60402</td>\n",
              "    </tr>\n",
              "    <tr>\n",
              "      <th>67</th>\n",
              "      <td>68</td>\n",
              "      <td>19</td>\n",
              "      <td>M</td>\n",
              "      <td>student</td>\n",
              "      <td>22904</td>\n",
              "    </tr>\n",
              "  </tbody>\n",
              "</table>\n",
              "</div>"
            ],
            "text/plain": [
              "    user_id  age sex occupation zip_code\n",
              "35       36   19   F    student    93117\n",
              "51       52   18   F    student    55105\n",
              "56       57   16   M       none    84010\n",
              "66       67   17   M    student    60402\n",
              "67       68   19   M    student    22904"
            ]
          },
          "metadata": {
            "tags": []
          }
        }
      ]
    },
    {
      "cell_type": "markdown",
      "metadata": {
        "id": "RRNa689n-18D"
      },
      "source": [
        "## Sorting\n",
        "\n",
        "What are the most rated movies?"
      ]
    },
    {
      "cell_type": "code",
      "metadata": {
        "id": "Bhi0bJlt_EpK"
      },
      "source": [
        "lens = pd.merge(movie_ratings, users)"
      ],
      "execution_count": null,
      "outputs": []
    },
    {
      "cell_type": "code",
      "metadata": {
        "id": "etebuDAF-41M",
        "outputId": "0e1a3d9c-6608-4af2-a51c-9f229cb14359",
        "colab": {
          "base_uri": "https://localhost:8080/",
          "height": 204
        }
      },
      "source": [
        "display(lens.title.value_counts().head(10)) #Cuento cuantas veces aparece cada titulo"
      ],
      "execution_count": null,
      "outputs": [
        {
          "output_type": "display_data",
          "data": {
            "text/plain": [
              "Star Wars (1977)                 583\n",
              "Contact (1997)                   509\n",
              "Fargo (1996)                     508\n",
              "Return of the Jedi (1983)        507\n",
              "Liar Liar (1997)                 485\n",
              "English Patient, The (1996)      481\n",
              "Scream (1996)                    478\n",
              "Toy Story (1995)                 452\n",
              "Air Force One (1997)             431\n",
              "Independence Day (ID4) (1996)    429\n",
              "Name: title, dtype: int64"
            ]
          },
          "metadata": {
            "tags": []
          }
        }
      ]
    },
    {
      "cell_type": "code",
      "metadata": {
        "id": "TPGbutf8_dnj",
        "outputId": "916bc3e0-e0ba-4997-9964-5baf808eb18f",
        "colab": {
          "base_uri": "https://localhost:8080/",
          "height": 204
        }
      },
      "source": [
        "users.sort_values(by=['user_id']).head() #se ordena por \"user_id\""
      ],
      "execution_count": null,
      "outputs": [
        {
          "output_type": "execute_result",
          "data": {
            "text/html": [
              "<div>\n",
              "<style scoped>\n",
              "    .dataframe tbody tr th:only-of-type {\n",
              "        vertical-align: middle;\n",
              "    }\n",
              "\n",
              "    .dataframe tbody tr th {\n",
              "        vertical-align: top;\n",
              "    }\n",
              "\n",
              "    .dataframe thead th {\n",
              "        text-align: right;\n",
              "    }\n",
              "</style>\n",
              "<table border=\"1\" class=\"dataframe\">\n",
              "  <thead>\n",
              "    <tr style=\"text-align: right;\">\n",
              "      <th></th>\n",
              "      <th>user_id</th>\n",
              "      <th>age</th>\n",
              "      <th>sex</th>\n",
              "      <th>occupation</th>\n",
              "      <th>zip_code</th>\n",
              "    </tr>\n",
              "  </thead>\n",
              "  <tbody>\n",
              "    <tr>\n",
              "      <th>0</th>\n",
              "      <td>1</td>\n",
              "      <td>24</td>\n",
              "      <td>M</td>\n",
              "      <td>technician</td>\n",
              "      <td>85711</td>\n",
              "    </tr>\n",
              "    <tr>\n",
              "      <th>1</th>\n",
              "      <td>2</td>\n",
              "      <td>53</td>\n",
              "      <td>F</td>\n",
              "      <td>other</td>\n",
              "      <td>94043</td>\n",
              "    </tr>\n",
              "    <tr>\n",
              "      <th>2</th>\n",
              "      <td>3</td>\n",
              "      <td>23</td>\n",
              "      <td>M</td>\n",
              "      <td>writer</td>\n",
              "      <td>32067</td>\n",
              "    </tr>\n",
              "    <tr>\n",
              "      <th>3</th>\n",
              "      <td>4</td>\n",
              "      <td>24</td>\n",
              "      <td>M</td>\n",
              "      <td>technician</td>\n",
              "      <td>43537</td>\n",
              "    </tr>\n",
              "    <tr>\n",
              "      <th>4</th>\n",
              "      <td>5</td>\n",
              "      <td>33</td>\n",
              "      <td>F</td>\n",
              "      <td>other</td>\n",
              "      <td>15213</td>\n",
              "    </tr>\n",
              "  </tbody>\n",
              "</table>\n",
              "</div>"
            ],
            "text/plain": [
              "   user_id  age sex  occupation zip_code\n",
              "0        1   24   M  technician    85711\n",
              "1        2   53   F       other    94043\n",
              "2        3   23   M      writer    32067\n",
              "3        4   24   M  technician    43537\n",
              "4        5   33   F       other    15213"
            ]
          },
          "metadata": {
            "tags": []
          },
          "execution_count": 121
        }
      ]
    },
    {
      "cell_type": "code",
      "metadata": {
        "id": "hCTo4eSdBwHJ",
        "outputId": "860352b3-5850-4a18-ae01-5c2950ef3c97",
        "colab": {
          "base_uri": "https://localhost:8080/",
          "height": 221
        }
      },
      "source": [
        "#El metodo groupby nos permite agrupar por las columnas que le indiquemos\n",
        "sorted_lens = lens.groupby(['movie_id', 'title']).size().sort_values(ascending=False)\n",
        "display(sorted_lens.head(10))"
      ],
      "execution_count": null,
      "outputs": [
        {
          "output_type": "display_data",
          "data": {
            "text/plain": [
              "movie_id  title                        \n",
              "50        Star Wars (1977)                 583\n",
              "258       Contact (1997)                   509\n",
              "100       Fargo (1996)                     508\n",
              "181       Return of the Jedi (1983)        507\n",
              "294       Liar Liar (1997)                 485\n",
              "286       English Patient, The (1996)      481\n",
              "288       Scream (1996)                    478\n",
              "1         Toy Story (1995)                 452\n",
              "300       Air Force One (1997)             431\n",
              "121       Independence Day (ID4) (1996)    429\n",
              "dtype: int64"
            ]
          },
          "metadata": {
            "tags": []
          }
        }
      ]
    },
    {
      "cell_type": "code",
      "metadata": {
        "id": "28TOWicLXORy",
        "outputId": "115057bb-ff7b-4408-c86d-25b39bb12320",
        "colab": {
          "base_uri": "https://localhost:8080/",
          "height": 952
        }
      },
      "source": [
        "table = pd.merge(users,ratings)\n",
        "display(table.groupby('sex').mean())\n",
        "print('*'*50)\n",
        "display(table.groupby('sex')[[\"sex\",\"rating\"]].mean())\n",
        "print('*'*50)\n",
        "display(table.groupby(['sex','age']).mean())\n",
        "\n",
        "table = table.replace({\"sex\":{\"F\":0,\"M\":1}})\n",
        "display(table[(table.age<18) & (table.sex==0)].groupby(['sex','age']).mean())"
      ],
      "execution_count": null,
      "outputs": [
        {
          "output_type": "display_data",
          "data": {
            "text/html": [
              "<div>\n",
              "<style scoped>\n",
              "    .dataframe tbody tr th:only-of-type {\n",
              "        vertical-align: middle;\n",
              "    }\n",
              "\n",
              "    .dataframe tbody tr th {\n",
              "        vertical-align: top;\n",
              "    }\n",
              "\n",
              "    .dataframe thead th {\n",
              "        text-align: right;\n",
              "    }\n",
              "</style>\n",
              "<table border=\"1\" class=\"dataframe\">\n",
              "  <thead>\n",
              "    <tr style=\"text-align: right;\">\n",
              "      <th></th>\n",
              "      <th>user_id</th>\n",
              "      <th>age</th>\n",
              "      <th>movie_id</th>\n",
              "      <th>rating</th>\n",
              "      <th>unix_timestamp</th>\n",
              "    </tr>\n",
              "    <tr>\n",
              "      <th>sex</th>\n",
              "      <th></th>\n",
              "      <th></th>\n",
              "      <th></th>\n",
              "      <th></th>\n",
              "      <th></th>\n",
              "    </tr>\n",
              "  </thead>\n",
              "  <tbody>\n",
              "    <tr>\n",
              "      <th>F</th>\n",
              "      <td>474.985781</td>\n",
              "      <td>32.314724</td>\n",
              "      <td>444.956449</td>\n",
              "      <td>3.531507</td>\n",
              "      <td>8.838510e+08</td>\n",
              "    </tr>\n",
              "    <tr>\n",
              "      <th>M</th>\n",
              "      <td>458.151643</td>\n",
              "      <td>33.196930</td>\n",
              "      <td>418.796580</td>\n",
              "      <td>3.529289</td>\n",
              "      <td>8.834172e+08</td>\n",
              "    </tr>\n",
              "  </tbody>\n",
              "</table>\n",
              "</div>"
            ],
            "text/plain": [
              "        user_id        age    movie_id    rating  unix_timestamp\n",
              "sex                                                             \n",
              "F    474.985781  32.314724  444.956449  3.531507    8.838510e+08\n",
              "M    458.151643  33.196930  418.796580  3.529289    8.834172e+08"
            ]
          },
          "metadata": {
            "tags": []
          }
        },
        {
          "output_type": "stream",
          "text": [
            "**************************************************\n"
          ],
          "name": "stdout"
        },
        {
          "output_type": "display_data",
          "data": {
            "text/html": [
              "<div>\n",
              "<style scoped>\n",
              "    .dataframe tbody tr th:only-of-type {\n",
              "        vertical-align: middle;\n",
              "    }\n",
              "\n",
              "    .dataframe tbody tr th {\n",
              "        vertical-align: top;\n",
              "    }\n",
              "\n",
              "    .dataframe thead th {\n",
              "        text-align: right;\n",
              "    }\n",
              "</style>\n",
              "<table border=\"1\" class=\"dataframe\">\n",
              "  <thead>\n",
              "    <tr style=\"text-align: right;\">\n",
              "      <th></th>\n",
              "      <th>rating</th>\n",
              "    </tr>\n",
              "    <tr>\n",
              "      <th>sex</th>\n",
              "      <th></th>\n",
              "    </tr>\n",
              "  </thead>\n",
              "  <tbody>\n",
              "    <tr>\n",
              "      <th>F</th>\n",
              "      <td>3.531507</td>\n",
              "    </tr>\n",
              "    <tr>\n",
              "      <th>M</th>\n",
              "      <td>3.529289</td>\n",
              "    </tr>\n",
              "  </tbody>\n",
              "</table>\n",
              "</div>"
            ],
            "text/plain": [
              "       rating\n",
              "sex          \n",
              "F    3.531507\n",
              "M    3.529289"
            ]
          },
          "metadata": {
            "tags": []
          }
        },
        {
          "output_type": "stream",
          "text": [
            "**************************************************\n"
          ],
          "name": "stdout"
        },
        {
          "output_type": "display_data",
          "data": {
            "text/html": [
              "<div>\n",
              "<style scoped>\n",
              "    .dataframe tbody tr th:only-of-type {\n",
              "        vertical-align: middle;\n",
              "    }\n",
              "\n",
              "    .dataframe tbody tr th {\n",
              "        vertical-align: top;\n",
              "    }\n",
              "\n",
              "    .dataframe thead th {\n",
              "        text-align: right;\n",
              "    }\n",
              "</style>\n",
              "<table border=\"1\" class=\"dataframe\">\n",
              "  <thead>\n",
              "    <tr style=\"text-align: right;\">\n",
              "      <th></th>\n",
              "      <th></th>\n",
              "      <th>user_id</th>\n",
              "      <th>movie_id</th>\n",
              "      <th>rating</th>\n",
              "      <th>unix_timestamp</th>\n",
              "    </tr>\n",
              "    <tr>\n",
              "      <th>sex</th>\n",
              "      <th>age</th>\n",
              "      <th></th>\n",
              "      <th></th>\n",
              "      <th></th>\n",
              "      <th></th>\n",
              "    </tr>\n",
              "  </thead>\n",
              "  <tbody>\n",
              "    <tr>\n",
              "      <th rowspan=\"5\" valign=\"top\">F</th>\n",
              "      <th>13</th>\n",
              "      <td>647.623188</td>\n",
              "      <td>429.927536</td>\n",
              "      <td>3.144928</td>\n",
              "      <td>8.874109e+08</td>\n",
              "    </tr>\n",
              "    <tr>\n",
              "      <th>14</th>\n",
              "      <td>713.780303</td>\n",
              "      <td>538.893939</td>\n",
              "      <td>3.375000</td>\n",
              "      <td>8.832889e+08</td>\n",
              "    </tr>\n",
              "    <tr>\n",
              "      <th>15</th>\n",
              "      <td>604.984906</td>\n",
              "      <td>398.109434</td>\n",
              "      <td>3.415094</td>\n",
              "      <td>8.893089e+08</td>\n",
              "    </tr>\n",
              "    <tr>\n",
              "      <th>16</th>\n",
              "      <td>489.238095</td>\n",
              "      <td>461.738095</td>\n",
              "      <td>3.690476</td>\n",
              "      <td>8.851538e+08</td>\n",
              "    </tr>\n",
              "    <tr>\n",
              "      <th>17</th>\n",
              "      <td>699.971698</td>\n",
              "      <td>557.235849</td>\n",
              "      <td>3.471698</td>\n",
              "      <td>8.850715e+08</td>\n",
              "    </tr>\n",
              "    <tr>\n",
              "      <th>...</th>\n",
              "      <th>...</th>\n",
              "      <td>...</td>\n",
              "      <td>...</td>\n",
              "      <td>...</td>\n",
              "      <td>...</td>\n",
              "    </tr>\n",
              "    <tr>\n",
              "      <th rowspan=\"5\" valign=\"top\">M</th>\n",
              "      <th>66</th>\n",
              "      <td>211.000000</td>\n",
              "      <td>438.216216</td>\n",
              "      <td>3.189189</td>\n",
              "      <td>8.794581e+08</td>\n",
              "    </tr>\n",
              "    <tr>\n",
              "      <th>68</th>\n",
              "      <td>473.173913</td>\n",
              "      <td>371.380435</td>\n",
              "      <td>3.500000</td>\n",
              "      <td>8.830017e+08</td>\n",
              "    </tr>\n",
              "    <tr>\n",
              "      <th>69</th>\n",
              "      <td>572.333333</td>\n",
              "      <td>521.589744</td>\n",
              "      <td>3.660256</td>\n",
              "      <td>8.911625e+08</td>\n",
              "    </tr>\n",
              "    <tr>\n",
              "      <th>70</th>\n",
              "      <td>783.971429</td>\n",
              "      <td>399.257143</td>\n",
              "      <td>3.800000</td>\n",
              "      <td>8.860848e+08</td>\n",
              "    </tr>\n",
              "    <tr>\n",
              "      <th>73</th>\n",
              "      <td>481.000000</td>\n",
              "      <td>348.464286</td>\n",
              "      <td>3.982143</td>\n",
              "      <td>8.858286e+08</td>\n",
              "    </tr>\n",
              "  </tbody>\n",
              "</table>\n",
              "<p>108 rows × 4 columns</p>\n",
              "</div>"
            ],
            "text/plain": [
              "            user_id    movie_id    rating  unix_timestamp\n",
              "sex age                                                  \n",
              "F   13   647.623188  429.927536  3.144928    8.874109e+08\n",
              "    14   713.780303  538.893939  3.375000    8.832889e+08\n",
              "    15   604.984906  398.109434  3.415094    8.893089e+08\n",
              "    16   489.238095  461.738095  3.690476    8.851538e+08\n",
              "    17   699.971698  557.235849  3.471698    8.850715e+08\n",
              "...             ...         ...       ...             ...\n",
              "M   66   211.000000  438.216216  3.189189    8.794581e+08\n",
              "    68   473.173913  371.380435  3.500000    8.830017e+08\n",
              "    69   572.333333  521.589744  3.660256    8.911625e+08\n",
              "    70   783.971429  399.257143  3.800000    8.860848e+08\n",
              "    73   481.000000  348.464286  3.982143    8.858286e+08\n",
              "\n",
              "[108 rows x 4 columns]"
            ]
          },
          "metadata": {
            "tags": []
          }
        },
        {
          "output_type": "display_data",
          "data": {
            "text/html": [
              "<div>\n",
              "<style scoped>\n",
              "    .dataframe tbody tr th:only-of-type {\n",
              "        vertical-align: middle;\n",
              "    }\n",
              "\n",
              "    .dataframe tbody tr th {\n",
              "        vertical-align: top;\n",
              "    }\n",
              "\n",
              "    .dataframe thead th {\n",
              "        text-align: right;\n",
              "    }\n",
              "</style>\n",
              "<table border=\"1\" class=\"dataframe\">\n",
              "  <thead>\n",
              "    <tr style=\"text-align: right;\">\n",
              "      <th></th>\n",
              "      <th></th>\n",
              "      <th>user_id</th>\n",
              "      <th>movie_id</th>\n",
              "      <th>rating</th>\n",
              "      <th>unix_timestamp</th>\n",
              "    </tr>\n",
              "    <tr>\n",
              "      <th>sex</th>\n",
              "      <th>age</th>\n",
              "      <th></th>\n",
              "      <th></th>\n",
              "      <th></th>\n",
              "      <th></th>\n",
              "    </tr>\n",
              "  </thead>\n",
              "  <tbody>\n",
              "    <tr>\n",
              "      <th rowspan=\"5\" valign=\"top\">0</th>\n",
              "      <th>13</th>\n",
              "      <td>647.623188</td>\n",
              "      <td>429.927536</td>\n",
              "      <td>3.144928</td>\n",
              "      <td>8.874109e+08</td>\n",
              "    </tr>\n",
              "    <tr>\n",
              "      <th>14</th>\n",
              "      <td>713.780303</td>\n",
              "      <td>538.893939</td>\n",
              "      <td>3.375000</td>\n",
              "      <td>8.832889e+08</td>\n",
              "    </tr>\n",
              "    <tr>\n",
              "      <th>15</th>\n",
              "      <td>604.984906</td>\n",
              "      <td>398.109434</td>\n",
              "      <td>3.415094</td>\n",
              "      <td>8.893089e+08</td>\n",
              "    </tr>\n",
              "    <tr>\n",
              "      <th>16</th>\n",
              "      <td>489.238095</td>\n",
              "      <td>461.738095</td>\n",
              "      <td>3.690476</td>\n",
              "      <td>8.851538e+08</td>\n",
              "    </tr>\n",
              "    <tr>\n",
              "      <th>17</th>\n",
              "      <td>699.971698</td>\n",
              "      <td>557.235849</td>\n",
              "      <td>3.471698</td>\n",
              "      <td>8.850715e+08</td>\n",
              "    </tr>\n",
              "  </tbody>\n",
              "</table>\n",
              "</div>"
            ],
            "text/plain": [
              "            user_id    movie_id    rating  unix_timestamp\n",
              "sex age                                                  \n",
              "0   13   647.623188  429.927536  3.144928    8.874109e+08\n",
              "    14   713.780303  538.893939  3.375000    8.832889e+08\n",
              "    15   604.984906  398.109434  3.415094    8.893089e+08\n",
              "    16   489.238095  461.738095  3.690476    8.851538e+08\n",
              "    17   699.971698  557.235849  3.471698    8.850715e+08"
            ]
          },
          "metadata": {
            "tags": []
          }
        }
      ]
    },
    {
      "cell_type": "code",
      "metadata": {
        "id": "cT-Pf40pdWHf",
        "outputId": "36811cce-0667-4e4a-fda7-776dc8d2f158",
        "colab": {
          "base_uri": "https://localhost:8080/",
          "height": 299
        }
      },
      "source": [
        "table['rating'].hist()\n",
        "print(table['rating'].mode())"
      ],
      "execution_count": null,
      "outputs": [
        {
          "output_type": "stream",
          "text": [
            "0    4\n",
            "dtype: int64\n"
          ],
          "name": "stdout"
        },
        {
          "output_type": "display_data",
          "data": {
            "image/png": "[encoded data removed]",
            "text/plain": [
              "<Figure size 432x288 with 1 Axes>"
            ]
          },
          "metadata": {
            "tags": [],
            "needs_background": "light"
          }
        }
      ]
    },
    {
      "cell_type": "markdown",
      "metadata": {
        "id": "QHDXqP4aCqO-"
      },
      "source": [
        "### Groupby con ejemplo mas simple"
      ]
    },
    {
      "cell_type": "code",
      "metadata": {
        "id": "Zm9rZGK2C0Ny",
        "outputId": "1bb23265-8ba5-486a-861f-92a482d5117f",
        "colab": {
          "base_uri": "https://localhost:8080/"
        }
      },
      "source": [
        "#creemos una tabla con pocos numeros\n",
        "Tipo = [1,2,1,1,1,1,1,2,2,3,3,2,2,1]\n",
        "Producto = [\"A\",\"B\",\"A\",\"C\",\"Z\",\"B\",\"B\",\"G\",\"A\",\"G\",\"B\",\"B\",\"A\",\"I\"]\n",
        "Ventas = [6,2,1,4,5,2,8,2,2,1,7,3,4,1]\n",
        "tabla = pd.DataFrame({\"Producto\":Producto,\"Ventas\": Ventas, \"Tipo\":Tipo})\n",
        "display(tabla.head())"
      ],
      "execution_count": null,
      "outputs": [
        {
          "output_type": "display_data",
          "data": {
            "text/html": [
              "<div>\n",
              "<style scoped>\n",
              "    .dataframe tbody tr th:only-of-type {\n",
              "        vertical-align: middle;\n",
              "    }\n",
              "\n",
              "    .dataframe tbody tr th {\n",
              "        vertical-align: top;\n",
              "    }\n",
              "\n",
              "    .dataframe thead th {\n",
              "        text-align: right;\n",
              "    }\n",
              "</style>\n",
              "<table border=\"1\" class=\"dataframe\">\n",
              "  <thead>\n",
              "    <tr style=\"text-align: right;\">\n",
              "      <th></th>\n",
              "      <th>Producto</th>\n",
              "      <th>Ventas</th>\n",
              "      <th>Tipo</th>\n",
              "    </tr>\n",
              "  </thead>\n",
              "  <tbody>\n",
              "    <tr>\n",
              "      <th>0</th>\n",
              "      <td>A</td>\n",
              "      <td>6</td>\n",
              "      <td>1</td>\n",
              "    </tr>\n",
              "    <tr>\n",
              "      <th>1</th>\n",
              "      <td>B</td>\n",
              "      <td>2</td>\n",
              "      <td>2</td>\n",
              "    </tr>\n",
              "    <tr>\n",
              "      <th>2</th>\n",
              "      <td>A</td>\n",
              "      <td>1</td>\n",
              "      <td>1</td>\n",
              "    </tr>\n",
              "    <tr>\n",
              "      <th>3</th>\n",
              "      <td>C</td>\n",
              "      <td>4</td>\n",
              "      <td>1</td>\n",
              "    </tr>\n",
              "    <tr>\n",
              "      <th>4</th>\n",
              "      <td>Z</td>\n",
              "      <td>5</td>\n",
              "      <td>1</td>\n",
              "    </tr>\n",
              "  </tbody>\n",
              "</table>\n",
              "</div>"
            ],
            "text/plain": [
              "  Producto  Ventas  Tipo\n",
              "0        A       6     1\n",
              "1        B       2     2\n",
              "2        A       1     1\n",
              "3        C       4     1\n",
              "4        Z       5     1"
            ]
          },
          "metadata": {
            "tags": []
          }
        }
      ]
    },
    {
      "cell_type": "code",
      "metadata": {
        "id": "oqtd1uqVELrp",
        "outputId": "87fb6ccb-cd05-4314-9560-a770b6383d40",
        "colab": {
          "base_uri": "https://localhost:8080/"
        }
      },
      "source": [
        "#Queremos obtener el promedio de ventas por producto\n",
        "#Para eso queremos agrupar las columnas por nombre de producto, y sacar la media\n",
        "tabla.groupby(\"Producto\").mean()"
      ],
      "execution_count": null,
      "outputs": [
        {
          "output_type": "execute_result",
          "data": {
            "text/html": [
              "<div>\n",
              "<style scoped>\n",
              "    .dataframe tbody tr th:only-of-type {\n",
              "        vertical-align: middle;\n",
              "    }\n",
              "\n",
              "    .dataframe tbody tr th {\n",
              "        vertical-align: top;\n",
              "    }\n",
              "\n",
              "    .dataframe thead th {\n",
              "        text-align: right;\n",
              "    }\n",
              "</style>\n",
              "<table border=\"1\" class=\"dataframe\">\n",
              "  <thead>\n",
              "    <tr style=\"text-align: right;\">\n",
              "      <th></th>\n",
              "      <th>Ventas</th>\n",
              "      <th>Tipo</th>\n",
              "    </tr>\n",
              "    <tr>\n",
              "      <th>Producto</th>\n",
              "      <th></th>\n",
              "      <th></th>\n",
              "    </tr>\n",
              "  </thead>\n",
              "  <tbody>\n",
              "    <tr>\n",
              "      <th>A</th>\n",
              "      <td>3.25</td>\n",
              "      <td>1.5</td>\n",
              "    </tr>\n",
              "    <tr>\n",
              "      <th>B</th>\n",
              "      <td>4.40</td>\n",
              "      <td>1.8</td>\n",
              "    </tr>\n",
              "    <tr>\n",
              "      <th>C</th>\n",
              "      <td>4.00</td>\n",
              "      <td>1.0</td>\n",
              "    </tr>\n",
              "    <tr>\n",
              "      <th>G</th>\n",
              "      <td>1.50</td>\n",
              "      <td>2.5</td>\n",
              "    </tr>\n",
              "    <tr>\n",
              "      <th>I</th>\n",
              "      <td>1.00</td>\n",
              "      <td>1.0</td>\n",
              "    </tr>\n",
              "    <tr>\n",
              "      <th>Z</th>\n",
              "      <td>5.00</td>\n",
              "      <td>1.0</td>\n",
              "    </tr>\n",
              "  </tbody>\n",
              "</table>\n",
              "</div>"
            ],
            "text/plain": [
              "          Ventas  Tipo\n",
              "Producto              \n",
              "A           3.25   1.5\n",
              "B           4.40   1.8\n",
              "C           4.00   1.0\n",
              "G           1.50   2.5\n",
              "I           1.00   1.0\n",
              "Z           5.00   1.0"
            ]
          },
          "metadata": {
            "tags": []
          },
          "execution_count": 124
        }
      ]
    },
    {
      "cell_type": "code",
      "metadata": {
        "id": "N0wEngw9E-hp",
        "outputId": "5986d037-664b-46f2-c3ed-9afd37e66f72",
        "colab": {
          "base_uri": "https://localhost:8080/"
        }
      },
      "source": [
        "#Obtengamos el promedio de ventas de cada producto pero por tipo!\n",
        "tabla.groupby([\"Tipo\",\"Producto\"]).mean() # El orden importa! PRIMERO debo agrupar por tipo y LUEGO por producto"
      ],
      "execution_count": null,
      "outputs": [
        {
          "output_type": "execute_result",
          "data": {
            "text/html": [
              "<div>\n",
              "<style scoped>\n",
              "    .dataframe tbody tr th:only-of-type {\n",
              "        vertical-align: middle;\n",
              "    }\n",
              "\n",
              "    .dataframe tbody tr th {\n",
              "        vertical-align: top;\n",
              "    }\n",
              "\n",
              "    .dataframe thead th {\n",
              "        text-align: right;\n",
              "    }\n",
              "</style>\n",
              "<table border=\"1\" class=\"dataframe\">\n",
              "  <thead>\n",
              "    <tr style=\"text-align: right;\">\n",
              "      <th></th>\n",
              "      <th></th>\n",
              "      <th>Ventas</th>\n",
              "    </tr>\n",
              "    <tr>\n",
              "      <th>Tipo</th>\n",
              "      <th>Producto</th>\n",
              "      <th></th>\n",
              "    </tr>\n",
              "  </thead>\n",
              "  <tbody>\n",
              "    <tr>\n",
              "      <th rowspan=\"5\" valign=\"top\">1</th>\n",
              "      <th>A</th>\n",
              "      <td>3.5</td>\n",
              "    </tr>\n",
              "    <tr>\n",
              "      <th>B</th>\n",
              "      <td>5.0</td>\n",
              "    </tr>\n",
              "    <tr>\n",
              "      <th>C</th>\n",
              "      <td>4.0</td>\n",
              "    </tr>\n",
              "    <tr>\n",
              "      <th>I</th>\n",
              "      <td>1.0</td>\n",
              "    </tr>\n",
              "    <tr>\n",
              "      <th>Z</th>\n",
              "      <td>5.0</td>\n",
              "    </tr>\n",
              "    <tr>\n",
              "      <th rowspan=\"3\" valign=\"top\">2</th>\n",
              "      <th>A</th>\n",
              "      <td>3.0</td>\n",
              "    </tr>\n",
              "    <tr>\n",
              "      <th>B</th>\n",
              "      <td>2.5</td>\n",
              "    </tr>\n",
              "    <tr>\n",
              "      <th>G</th>\n",
              "      <td>2.0</td>\n",
              "    </tr>\n",
              "    <tr>\n",
              "      <th rowspan=\"2\" valign=\"top\">3</th>\n",
              "      <th>B</th>\n",
              "      <td>7.0</td>\n",
              "    </tr>\n",
              "    <tr>\n",
              "      <th>G</th>\n",
              "      <td>1.0</td>\n",
              "    </tr>\n",
              "  </tbody>\n",
              "</table>\n",
              "</div>"
            ],
            "text/plain": [
              "               Ventas\n",
              "Tipo Producto        \n",
              "1    A            3.5\n",
              "     B            5.0\n",
              "     C            4.0\n",
              "     I            1.0\n",
              "     Z            5.0\n",
              "2    A            3.0\n",
              "     B            2.5\n",
              "     G            2.0\n",
              "3    B            7.0\n",
              "     G            1.0"
            ]
          },
          "metadata": {
            "tags": []
          },
          "execution_count": 125
        }
      ]
    }
  ]
}