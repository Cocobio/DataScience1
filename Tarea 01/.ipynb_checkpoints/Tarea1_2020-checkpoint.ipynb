{
 "cells": [
  {
   "cell_type": "markdown",
   "metadata": {},
   "source": [
    "# Tarea 1 \n",
    "\n",
    "## Data science 1 \n",
    "\n",
    "---\n",
    "\n",
    "Fecha de entrega: **Viernes 2 de Octubre 2020 antes de las 23:59**\n",
    "\n",
    "¿Cómo?:  archivo NombreApellido_tarea1.zip enviado por email a guillecabrera@inf.udec.cl con copia a valenthernandez@inf.udec.cl\n",
    "\n",
    "#### IMPORTANTE:\n",
    "- Las tareas deben estar en nuestros correos **antes de la medianoche**, por lo que recomiendo enviarlas con anticipación.\n",
    "- Si llega despues de las 12 de la noche, utilizan uno de sus 4 días totales permitidos para atraso . Si no les quedan días de atraso y la tarea llega atrasada tienen un <span style=\"color:red\">**1.0**</span>.\n",
    "- Cada respuesta debe ser explicada claramente sin dejar espacio a dobles interpretaciones.\n",
    "- Está bien discutir las respuestas con compañeros. Está bien buscar la respuesta en google. Está bien asistir a clases donde revisaremos (y a veces programaremos) las respuestas. **No está bien entregar código escrito por otras personas** ya sea compañeros, código obtenido por internet o incluso el código que el profesor programa en clases. **Todo el código entregado debe ser escrito completamente por ustedes**.\n",
    "\n",
    "---"
   ]
  },
  {
   "cell_type": "markdown",
   "metadata": {},
   "source": [
    "## Web scraping\n",
    "\n",
    "Para esta tarea se necesita extraer información sobre las ofertas de juegos disponobles en la plataforma de Steam. Para lograrlo, deberán aplicar lo aprendido y extraer la información necesaria de la [página de ofertas de Steam](https://store.steampowered.com/search/?specials=1) ( https://store.steampowered.com/search/?specials=1 )  utilizando las herramientas de Python, en especial, **Beautifulsoup** para obtener los datos del html y **Pandas** para guardar los datos importantes en una tabla.\n",
    "\n",
    "Los datos que nos interesan son los siguientes:\n",
    "\n",
    "- Nombre del juego\n",
    "- Fecha de lanzamiento\n",
    "- Precio original\n",
    "- Precio en oferta\n",
    "- Review de los usuarios (Positivas, negativas, neutro)\n",
    "- Plataformas en la que se puede jugar (Windows, Linux y/o Mac)\n",
    "- Etiqueta del juego\n",
    "\n",
    "Por último se adjunta un archivo llamado \"tags.csv\" el cual contiene todas las etiquetas que puede tener un juego de steam con su código para hacer la búsqueda a través de un request. \n",
    "Deberán leer este archivo (utilizando pandas) y hacer un request con cada código para obtener los datos anteriormente mencionados.\n",
    "\n",
    "Los datos obtenidos deberán ser guardados en un archivo \".csv\""
   ]
  },
  {
   "cell_type": "code",
   "execution_count": 2,
   "metadata": {},
   "outputs": [
    {
     "data": {
      "text/plain": [
       "'\\nContinuar con el código ...\\n'"
      ]
     },
     "execution_count": 2,
     "metadata": {},
     "output_type": "execute_result"
    }
   ],
   "source": [
    "import requests\n",
    "import bs4\n",
    "import pandas as pd\n",
    "\n",
    "tag1 = 492 # Indie\n",
    "r = requests.get(url = \"https://store.steampowered.com/search/\", params = { \"specials\": 1, \"tags\": tag1 })\n",
    "\n",
    "\"\"\"\n",
    "Continuar con el código ...\n",
    "\"\"\""
   ]
  },
  {
   "cell_type": "markdown",
   "metadata": {},
   "source": [
    "**Debe explicar cada decisión que toma para la representación de los datos.**"
   ]
  },
  {
   "cell_type": "markdown",
   "metadata": {},
   "source": [
    "---\n",
    "\n",
    "## Pregunta 1\n",
    "\n",
    "Entregue los nombres de los 10 juegos con precio de oferta más baratos\n",
    "\n",
    "Ejemplo:\n",
    "\n",
    "| Nombre del juego | Precio en oferta |\n",
    "|:----------------:|:----------------:|\n",
    "|  Nombre 1 | \\$ |\n",
    "| ... | ... |\n",
    "| Nombre 10 | \\$\\$\\$ |"
   ]
  },
  {
   "cell_type": "code",
   "execution_count": null,
   "metadata": {},
   "outputs": [],
   "source": []
  },
  {
   "cell_type": "markdown",
   "metadata": {},
   "source": [
    "---\n",
    "\n",
    "## Pregunta 2\n",
    "\n",
    "Entregue los juegos que se puedan jugar en Windows, Linux y Mac"
   ]
  },
  {
   "cell_type": "code",
   "execution_count": null,
   "metadata": {},
   "outputs": [],
   "source": []
  },
  {
   "cell_type": "markdown",
   "metadata": {},
   "source": [
    "---\n",
    "\n",
    "## Pregunta 3\n",
    " \n",
    "Entregue dos tablas, una con los juegos con precio de oferta de *\\$5.000* o menos y otra con los respectivos juegos con precio original de \\$15.000 o menos.\n"
   ]
  },
  {
   "cell_type": "code",
   "execution_count": null,
   "metadata": {},
   "outputs": [],
   "source": []
  },
  {
   "cell_type": "markdown",
   "metadata": {},
   "source": [
    "---\n",
    "\n",
    "## Pregunta 4\n",
    "\n",
    "Muestre el precio promedio de las ofertas"
   ]
  },
  {
   "cell_type": "code",
   "execution_count": null,
   "metadata": {},
   "outputs": [],
   "source": []
  },
  {
   "cell_type": "markdown",
   "metadata": {},
   "source": [
    "---\n",
    "\n",
    "## Pregunta 5\n",
    "\n",
    "Muestre cuántos juegos disponiubles hay por cada conjunto de plataformas.\n",
    "\n",
    "La tabla se debería ver similar a:\n",
    "\n",
    "| Plataformas | Juegos |\n",
    "|:-----------:|:------:|\n",
    "| Windows | 100\n",
    "| Windows y Mac | 21 |\n",
    "| ... | ... |"
   ]
  },
  {
   "cell_type": "code",
   "execution_count": null,
   "metadata": {},
   "outputs": [],
   "source": []
  },
  {
   "cell_type": "markdown",
   "metadata": {},
   "source": [
    "---\n",
    "\n",
    "## Pregunta 6\n",
    "\n",
    "Mostrar el juego más barato en oferta por cada categoría"
   ]
  },
  {
   "cell_type": "code",
   "execution_count": null,
   "metadata": {},
   "outputs": [],
   "source": []
  }
 ],
 "metadata": {
  "kernelspec": {
   "display_name": "Python 3",
   "language": "python",
   "name": "python3"
  },
  "language_info": {
   "codemirror_mode": {
    "name": "ipython",
    "version": 3
   },
   "file_extension": ".py",
   "mimetype": "text/x-python",
   "name": "python",
   "nbconvert_exporter": "python",
   "pygments_lexer": "ipython3",
   "version": "3.7.3"
  }
 },
 "nbformat": 4,
 "nbformat_minor": 4
}
